{
 "cells": [
  {
   "cell_type": "markdown",
   "metadata": {},
   "source": [
    "# WeatherPy\n",
    "----\n",
    "\n",
    "#### Note\n",
    "* Instructions have been included for each segment. You do not have to follow them exactly, but they are included to help you think through the steps."
   ]
  },
  {
   "cell_type": "code",
   "execution_count": 1,
   "metadata": {
    "scrolled": true
   },
   "outputs": [],
   "source": [
    "# Dependencies and Setup\n",
    "import matplotlib.pyplot as plt\n",
    "import pandas as pd\n",
    "import numpy as np\n",
    "import requests\n",
    "import time\n",
    "import json\n",
    "from scipy.stats import linregress\n",
    "\n",
    "# Import API key\n",
    "from api_keys import weather_api_key\n",
    "\n",
    "# Incorporated citipy to determine city based on latitude and longitude\n",
    "from citipy import citipy\n",
    "\n",
    "# Output File (CSV)\n",
    "output_data_file = \"output_data/cities.csv\"\n",
    "\n",
    "# Range of latitudes and longitudes\n",
    "lat_range = (-90, 90)\n",
    "lng_range = (-180, 180)"
   ]
  },
  {
   "cell_type": "markdown",
   "metadata": {},
   "source": [
    "## Generate Cities List"
   ]
  },
  {
   "cell_type": "code",
   "execution_count": 2,
   "metadata": {},
   "outputs": [
    {
     "data": {
      "text/plain": [
       "605"
      ]
     },
     "execution_count": 2,
     "metadata": {},
     "output_type": "execute_result"
    }
   ],
   "source": [
    "# List for holding lat_lngs and cities\n",
    "lat_lngs = []\n",
    "cities = []\n",
    "\n",
    "# Create a set of random lat and lng combinations\n",
    "lats = np.random.uniform(lat_range[0], lat_range[1], size=1500)\n",
    "lngs = np.random.uniform(lng_range[0], lng_range[1], size=1500)\n",
    "lat_lngs = zip(lats, lngs)\n",
    "\n",
    "# Identify nearest city for each lat, lng combination\n",
    "for lat_lng in lat_lngs:\n",
    "    city = citipy.nearest_city(lat_lng[0], lat_lng[1]).city_name\n",
    "    \n",
    "    # If the city is unique, then add it to a our cities list\n",
    "    if city not in cities:\n",
    "        cities.append(city)\n",
    "\n",
    "# Print the city count to confirm sufficient count\n",
    "len(cities)"
   ]
  },
  {
   "cell_type": "markdown",
   "metadata": {},
   "source": [
    "### Perform API Calls\n",
    "* Perform a weather check on each city using a series of successive API calls.\n",
    "* Include a print log of each city as it'sbeing processed (with the city number and city name).\n"
   ]
  },
  {
   "cell_type": "code",
   "execution_count": 3,
   "metadata": {},
   "outputs": [],
   "source": [
    "#Assign base url for API's call\n",
    "\n",
    "base_url = \"http://api.openweathermap.org/data/2.5/weather?q=\""
   ]
  },
  {
   "cell_type": "code",
   "execution_count": 4,
   "metadata": {},
   "outputs": [],
   "source": [
    "#Set empty lists to hold cities data\n",
    "\n",
    "lat = []\n",
    "lng = []\n",
    "max_temp = []\n",
    "humidity = []\n",
    "cloudiness = []\n",
    "wind_speed = []\n",
    "country_code = []"
   ]
  },
  {
   "cell_type": "code",
   "execution_count": 5,
   "metadata": {
    "scrolled": true
   },
   "outputs": [
    {
     "name": "stdout",
     "output_type": "stream",
     "text": [
      "\n",
      "Beginning Data Retrieval\n",
      "----------------------------\n",
      "Processing Record: 0 : jamestown\n",
      "Processing Record: 1 : ignacio zaragoza\n",
      "Processing Record: 2 : kodiak\n",
      "Processing Record: 3 : umm lajj\n",
      "Processing Record: 4 : wuan\n",
      "Processing Record: 5 : korem\n",
      "Processing Record: 6 : rikitea\n",
      "Processing Record: 7 : french harbor\n",
      "Processing Record: 8 : saint-philippe\n",
      "Processing Record: 9 : walvis bay\n",
      "Processing Record: 10 : pevek\n",
      "Processing Record: 11 : bethel\n",
      "Processing Record: 12 : qasigiannguit\n",
      "Processing Record: 13 : thompson\n",
      "City not found. Skipping...\n",
      "Processing Record: 15 : pitimbu\n",
      "Processing Record: 16 : port elizabeth\n",
      "Processing Record: 17 : upernavik\n",
      "Processing Record: 18 : olafsvik\n",
      "Processing Record: 19 : cabo san lucas\n",
      "Processing Record: 20 : laramie\n",
      "Processing Record: 21 : camacha\n",
      "Processing Record: 22 : qaanaaq\n",
      "Processing Record: 23 : provideniya\n",
      "Processing Record: 24 : hobart\n",
      "Processing Record: 25 : chokurdakh\n",
      "Processing Record: 26 : saint george\n",
      "Processing Record: 27 : koslan\n",
      "Processing Record: 28 : luderitz\n",
      "Processing Record: 29 : norman wells\n",
      "Processing Record: 30 : nikolskoye\n",
      "Processing Record: 31 : mataura\n",
      "Processing Record: 32 : ponta do sol\n",
      "Processing Record: 33 : miraflores\n",
      "Processing Record: 34 : qurayyat\n",
      "Processing Record: 35 : juneau\n",
      "Processing Record: 36 : khatanga\n",
      "Processing Record: 37 : vila velha\n",
      "Processing Record: 38 : roma\n",
      "City not found. Skipping...\n",
      "Processing Record: 40 : punta arenas\n",
      "Processing Record: 41 : opuwo\n",
      "Processing Record: 42 : besikduzu\n",
      "Processing Record: 43 : terney\n",
      "City not found. Skipping...\n",
      "Processing Record: 45 : port alfred\n",
      "Processing Record: 46 : sarai\n",
      "Processing Record: 47 : padang\n",
      "Processing Record: 48 : bluff\n",
      "Processing Record: 49 : tupik\n",
      "Processing Record: 50 : ushuaia\n",
      "Processing Record: 51 : butaritari\n",
      "City not found. Skipping...\n",
      "Processing Record: 53 : korhogo\n",
      "Processing Record: 54 : mandurah\n",
      "Processing Record: 55 : albany\n",
      "Processing Record: 56 : zelenoborskiy\n",
      "Processing Record: 57 : hithadhoo\n",
      "Processing Record: 58 : constitucion\n",
      "Processing Record: 59 : dikson\n",
      "Processing Record: 60 : montepuez\n",
      "Processing Record: 61 : cape town\n",
      "Processing Record: 62 : carnarvon\n",
      "Processing Record: 63 : lasa\n",
      "Processing Record: 64 : kapaa\n",
      "City not found. Skipping...\n",
      "Processing Record: 66 : thunder bay\n",
      "Processing Record: 67 : papetoai\n",
      "Processing Record: 68 : baryatino\n",
      "Processing Record: 69 : abay\n",
      "City not found. Skipping...\n",
      "Processing Record: 71 : qaqortoq\n",
      "Processing Record: 72 : baar\n",
      "City not found. Skipping...\n",
      "Processing Record: 74 : east london\n",
      "Processing Record: 75 : hilo\n",
      "Processing Record: 76 : busselton\n",
      "Processing Record: 77 : rio gallegos\n",
      "Processing Record: 78 : alexandria\n",
      "Processing Record: 79 : ahipara\n",
      "Processing Record: 80 : leningradskiy\n",
      "Processing Record: 81 : aleksandrovskoye\n",
      "Processing Record: 82 : college\n",
      "Processing Record: 83 : hermanus\n",
      "Processing Record: 84 : bolitoc\n",
      "Processing Record: 85 : kutum\n",
      "Processing Record: 86 : torbay\n",
      "Processing Record: 87 : tasiilaq\n",
      "Processing Record: 88 : port lincoln\n",
      "Processing Record: 89 : lorengau\n",
      "Processing Record: 90 : lamu\n",
      "Processing Record: 91 : kholtoson\n",
      "Processing Record: 92 : bilibino\n",
      "Processing Record: 93 : souillac\n",
      "Processing Record: 94 : ixtapa\n",
      "City not found. Skipping...\n",
      "Processing Record: 96 : ilulissat\n",
      "Processing Record: 97 : luxor\n",
      "Processing Record: 98 : ostrovnoy\n",
      "Processing Record: 99 : barro\n",
      "Processing Record: 100 : saint-georges\n",
      "Processing Record: 101 : bredasdorp\n",
      "Processing Record: 102 : lebu\n",
      "Processing Record: 103 : skjervoy\n",
      "Processing Record: 104 : sitka\n",
      "Processing Record: 105 : assiniboia\n",
      "Processing Record: 106 : kamen-rybolov\n",
      "Processing Record: 107 : vaini\n",
      "Processing Record: 108 : murska sobota\n",
      "Processing Record: 109 : praia da vitoria\n",
      "Processing Record: 110 : atuona\n",
      "Processing Record: 111 : tuktoyaktuk\n",
      "Processing Record: 112 : ust-tsilma\n",
      "Processing Record: 113 : amapa\n",
      "Processing Record: 114 : dieppe\n",
      "Processing Record: 115 : bilecik\n",
      "Processing Record: 116 : kavaratti\n",
      "City not found. Skipping...\n",
      "Processing Record: 118 : barrow\n",
      "Processing Record: 119 : hervey bay\n",
      "Processing Record: 120 : cayenne\n",
      "Processing Record: 121 : kibala\n",
      "Processing Record: 122 : san ciro de acosta\n",
      "Processing Record: 123 : komsomolskiy\n",
      "Processing Record: 124 : arauca\n",
      "Processing Record: 125 : narsaq\n",
      "Processing Record: 126 : longyearbyen\n",
      "City not found. Skipping...\n",
      "Processing Record: 128 : danielskuil\n",
      "Processing Record: 129 : mbekenyera\n",
      "Processing Record: 130 : yablonovo\n",
      "Processing Record: 131 : palasa\n",
      "Processing Record: 132 : pachino\n",
      "Processing Record: 133 : sabang\n",
      "Processing Record: 134 : grand gaube\n",
      "City not found. Skipping...\n",
      "Processing Record: 136 : anqiu\n",
      "Processing Record: 137 : yulara\n",
      "Processing Record: 138 : tampico\n",
      "Processing Record: 139 : fortuna\n",
      "Processing Record: 140 : sudak\n",
      "Processing Record: 141 : geraldton\n",
      "Processing Record: 142 : vila do maio\n",
      "Processing Record: 143 : novyy rogachik\n",
      "Processing Record: 144 : yellowknife\n",
      "City not found. Skipping...\n",
      "Processing Record: 146 : pangai\n",
      "Processing Record: 147 : korla\n",
      "Processing Record: 148 : were ilu\n",
      "Processing Record: 149 : vanimo\n",
      "Processing Record: 150 : brownsville\n",
      "Processing Record: 151 : avarua\n",
      "Processing Record: 152 : zyryanovsk\n",
      "Processing Record: 153 : chuy\n",
      "Processing Record: 154 : miles city\n",
      "Processing Record: 155 : felanitx\n",
      "Processing Record: 156 : sarkand\n",
      "City not found. Skipping...\n",
      "Processing Record: 158 : isangel\n",
      "Processing Record: 159 : santiago\n",
      "Processing Record: 160 : margate\n",
      "Processing Record: 161 : mount gambier\n",
      "Processing Record: 162 : yarada\n",
      "Processing Record: 163 : bambous virieux\n",
      "Processing Record: 164 : liepaja\n",
      "Processing Record: 165 : chickasha\n",
      "Processing Record: 166 : palmerston north\n",
      "Processing Record: 167 : victoria\n",
      "Processing Record: 168 : mizdah\n",
      "Processing Record: 169 : arraial do cabo\n",
      "Processing Record: 170 : samarai\n",
      "Processing Record: 171 : castro\n",
      "Processing Record: 172 : la rioja\n",
      "Processing Record: 173 : itaituba\n",
      "Processing Record: 174 : north bend\n",
      "Processing Record: 175 : saskylakh\n",
      "City not found. Skipping...\n",
      "Processing Record: 177 : pangnirtung\n",
      "Processing Record: 178 : matagami\n",
      "Processing Record: 179 : rock sound\n",
      "Processing Record: 180 : new norfolk\n",
      "Processing Record: 181 : puerto escondido\n",
      "Processing Record: 182 : avera\n",
      "Processing Record: 183 : strezhevoy\n",
      "Processing Record: 184 : talara\n",
      "Processing Record: 185 : tigil\n",
      "Processing Record: 186 : karratha\n",
      "Processing Record: 187 : pindwara\n",
      "Processing Record: 188 : esperance\n",
      "Processing Record: 189 : vila\n",
      "Processing Record: 190 : chapais\n",
      "Processing Record: 191 : chicama\n",
      "City not found. Skipping...\n",
      "City not found. Skipping...\n",
      "Processing Record: 194 : urumqi\n",
      "Processing Record: 195 : taltal\n",
      "Processing Record: 196 : bitung\n",
      "Processing Record: 197 : guerrero negro\n",
      "Processing Record: 198 : akdepe\n",
      "Processing Record: 199 : ballina\n",
      "Processing Record: 200 : ariquemes\n",
      "Processing Record: 201 : lagoa\n",
      "Processing Record: 202 : puerto ayora\n",
      "Processing Record: 203 : cam ranh\n",
      "Processing Record: 204 : solnechnyy\n",
      "Processing Record: 205 : henties bay\n",
      "City not found. Skipping...\n",
      "Processing Record: 207 : cherskiy\n",
      "Processing Record: 208 : port hope\n",
      "Processing Record: 209 : faanui\n",
      "Processing Record: 210 : maniitsoq\n",
      "Processing Record: 211 : khandyga\n",
      "Processing Record: 212 : kilindoni\n",
      "Processing Record: 213 : vega de alatorre\n",
      "Processing Record: 214 : mendi\n",
      "Processing Record: 215 : rantepao\n",
      "Processing Record: 216 : kaeo\n",
      "Processing Record: 217 : broome\n",
      "Processing Record: 218 : ourossogui\n",
      "Processing Record: 219 : nome\n",
      "Processing Record: 220 : romitan\n",
      "Processing Record: 221 : lagos\n",
      "Processing Record: 222 : kopervik\n",
      "Processing Record: 223 : zaruma\n",
      "Processing Record: 224 : luang prabang\n",
      "Processing Record: 225 : severo-kurilsk\n",
      "Processing Record: 226 : ribeira grande\n",
      "Processing Record: 227 : pontianak\n",
      "Processing Record: 228 : coquimbo\n",
      "Processing Record: 229 : bengkulu\n",
      "Processing Record: 230 : alofi\n",
      "Processing Record: 231 : svodin\n",
      "Processing Record: 232 : tukrah\n",
      "Processing Record: 233 : dingle\n",
      "Processing Record: 234 : labuhan\n",
      "Processing Record: 235 : los llanos de aridane\n",
      "Processing Record: 236 : makhachkala\n",
      "Processing Record: 237 : esna\n",
      "Processing Record: 238 : paamiut\n",
      "Processing Record: 239 : acapulco\n",
      "Processing Record: 240 : nedjo\n",
      "Processing Record: 241 : airai\n",
      "Processing Record: 242 : adrar\n"
     ]
    },
    {
     "name": "stdout",
     "output_type": "stream",
     "text": [
      "Processing Record: 243 : amersfoort\n",
      "Processing Record: 244 : petropavlovsk-kamchatskiy\n",
      "Processing Record: 245 : angoche\n",
      "Processing Record: 246 : hami\n",
      "Processing Record: 247 : mocuba\n",
      "Processing Record: 248 : areia branca\n",
      "Processing Record: 249 : uttarkashi\n",
      "Processing Record: 250 : srednekolymsk\n",
      "Processing Record: 251 : ukiah\n",
      "Processing Record: 252 : hasaki\n",
      "Processing Record: 253 : rio grande\n",
      "Processing Record: 254 : baykit\n",
      "Processing Record: 255 : amurzet\n",
      "Processing Record: 256 : iqaluit\n",
      "City not found. Skipping...\n",
      "Processing Record: 258 : saint-leu\n",
      "City not found. Skipping...\n",
      "Processing Record: 260 : russell\n",
      "Processing Record: 261 : luangwa\n",
      "Processing Record: 262 : grajau\n",
      "Processing Record: 263 : ucluelet\n",
      "Processing Record: 264 : makubetsu\n",
      "Processing Record: 265 : astana\n",
      "City not found. Skipping...\n",
      "City not found. Skipping...\n",
      "Processing Record: 268 : havelock\n",
      "Processing Record: 269 : egvekinot\n",
      "Processing Record: 270 : mar del plata\n",
      "Processing Record: 271 : palaikastron\n",
      "Processing Record: 272 : hohhot\n",
      "Processing Record: 273 : kaitangata\n",
      "Processing Record: 274 : lacombe\n",
      "City not found. Skipping...\n",
      "City not found. Skipping...\n",
      "Processing Record: 277 : bereda\n",
      "Processing Record: 278 : sulangan\n",
      "Processing Record: 279 : hellin\n",
      "Processing Record: 280 : general roca\n",
      "Processing Record: 281 : otjiwarongo\n",
      "Processing Record: 282 : capoterra\n",
      "Processing Record: 283 : inhambane\n",
      "Processing Record: 284 : shingu\n",
      "Processing Record: 285 : mukhen\n",
      "Processing Record: 286 : pisco\n",
      "Processing Record: 287 : kavieng\n",
      "Processing Record: 288 : kurud\n",
      "Processing Record: 289 : soe\n",
      "Processing Record: 290 : salalah\n",
      "Processing Record: 291 : san rafael\n",
      "Processing Record: 292 : faya\n",
      "Processing Record: 293 : port blair\n",
      "Processing Record: 294 : tiksi\n",
      "Processing Record: 295 : monrovia\n",
      "Processing Record: 296 : troy\n",
      "Processing Record: 297 : ozernovskiy\n",
      "Processing Record: 298 : ternate\n",
      "Processing Record: 299 : robat karim\n",
      "Processing Record: 300 : nioro\n",
      "Processing Record: 301 : imeni poliny osipenko\n",
      "Processing Record: 302 : dunedin\n",
      "City not found. Skipping...\n",
      "Processing Record: 304 : shiraz\n",
      "Processing Record: 305 : sao joao da barra\n",
      "Processing Record: 306 : tambilil\n",
      "Processing Record: 307 : bangangte\n",
      "Processing Record: 308 : arman\n",
      "Processing Record: 309 : kisangani\n",
      "Processing Record: 310 : presidencia roque saenz pena\n",
      "Processing Record: 311 : punta gorda\n",
      "Processing Record: 312 : mchinji\n",
      "Processing Record: 313 : vardo\n",
      "Processing Record: 314 : hofn\n",
      "Processing Record: 315 : cidreira\n",
      "Processing Record: 316 : brae\n",
      "City not found. Skipping...\n",
      "Processing Record: 318 : bridlington\n",
      "Processing Record: 319 : te anau\n",
      "Processing Record: 320 : cajaruro\n",
      "Processing Record: 321 : lompoc\n",
      "Processing Record: 322 : katsuura\n",
      "Processing Record: 323 : marawi\n",
      "Processing Record: 324 : la asuncion\n",
      "Processing Record: 325 : dolinsk\n",
      "Processing Record: 326 : warwick\n",
      "Processing Record: 327 : lavrentiya\n",
      "Processing Record: 328 : dehloran\n",
      "Processing Record: 329 : santa maria\n",
      "Processing Record: 330 : sao filipe\n",
      "Processing Record: 331 : saint-augustin\n",
      "Processing Record: 332 : aykhal\n",
      "Processing Record: 333 : clyde river\n",
      "Processing Record: 334 : matara\n",
      "Processing Record: 335 : izhma\n",
      "Processing Record: 336 : vostok\n",
      "Processing Record: 337 : ferrol\n",
      "Processing Record: 338 : mount hagen\n",
      "Processing Record: 339 : rabo de peixe\n",
      "Processing Record: 340 : tungor\n",
      "Processing Record: 341 : martil\n",
      "Processing Record: 342 : nanortalik\n",
      "Processing Record: 343 : karpathos\n",
      "Processing Record: 344 : deputatskiy\n",
      "Processing Record: 345 : seydisehir\n",
      "Processing Record: 346 : flinders\n",
      "Processing Record: 347 : lebork\n",
      "Processing Record: 348 : namibe\n",
      "Processing Record: 349 : namatanai\n",
      "Processing Record: 350 : ponta delgada\n",
      "Processing Record: 351 : shimoda\n",
      "Processing Record: 352 : martvili\n",
      "Processing Record: 353 : aasiaat\n",
      "Processing Record: 354 : magadi\n",
      "Processing Record: 355 : verkhnevilyuysk\n",
      "City not found. Skipping...\n",
      "Processing Record: 357 : coihaique\n",
      "Processing Record: 358 : zavetnoye\n",
      "Processing Record: 359 : sotouboua\n",
      "Processing Record: 360 : harer\n",
      "Processing Record: 361 : grindavik\n",
      "Processing Record: 362 : salumbar\n",
      "Processing Record: 363 : kasama\n",
      "Processing Record: 364 : nouadhibou\n",
      "Processing Record: 365 : pustoshka\n",
      "Processing Record: 366 : comodoro rivadavia\n",
      "Processing Record: 367 : fukue\n",
      "Processing Record: 368 : ouro preto do oeste\n",
      "Processing Record: 369 : bismarck\n",
      "Processing Record: 370 : bell ville\n",
      "Processing Record: 371 : nantucket\n",
      "Processing Record: 372 : tres arroyos\n",
      "Processing Record: 373 : luanda\n",
      "Processing Record: 374 : orihuela\n",
      "Processing Record: 375 : tornio\n",
      "Processing Record: 376 : kapit\n",
      "Processing Record: 377 : kidal\n",
      "Processing Record: 378 : nosy varika\n",
      "Processing Record: 379 : talaya\n",
      "City not found. Skipping...\n",
      "Processing Record: 381 : kushiro\n",
      "City not found. Skipping...\n",
      "City not found. Skipping...\n",
      "Processing Record: 384 : takapau\n",
      "Processing Record: 385 : ormara\n",
      "Processing Record: 386 : mandera\n",
      "Processing Record: 387 : alice springs\n",
      "Processing Record: 388 : abalak\n",
      "Processing Record: 389 : hermiston\n",
      "Processing Record: 390 : haines junction\n",
      "Processing Record: 391 : miguel auza\n",
      "Processing Record: 392 : whitehorse\n",
      "Processing Record: 393 : borskoye\n",
      "Processing Record: 394 : westport\n",
      "Processing Record: 395 : weiser\n",
      "Processing Record: 396 : forestville\n",
      "Processing Record: 397 : sibolga\n",
      "Processing Record: 398 : honiara\n",
      "Processing Record: 399 : fairbanks\n",
      "Processing Record: 400 : cartagena\n",
      "Processing Record: 401 : mwinilunga\n",
      "Processing Record: 402 : noyabrsk\n",
      "Processing Record: 403 : butte\n",
      "Processing Record: 404 : banjar\n",
      "Processing Record: 405 : leshukonskoye\n",
      "Processing Record: 406 : nago\n",
      "Processing Record: 407 : orje\n",
      "Processing Record: 408 : zabaykalsk\n",
      "City not found. Skipping...\n",
      "Processing Record: 410 : mnogovershinnyy\n",
      "Processing Record: 411 : prince rupert\n",
      "Processing Record: 412 : khasan\n",
      "Processing Record: 413 : morehead\n",
      "City not found. Skipping...\n",
      "City not found. Skipping...\n",
      "Processing Record: 416 : conceicao do araguaia\n",
      "Processing Record: 417 : veinticinco de mayo\n",
      "Processing Record: 418 : santiago del estero\n",
      "Processing Record: 419 : xuddur\n",
      "Processing Record: 420 : marzuq\n",
      "Processing Record: 421 : havoysund\n",
      "Processing Record: 422 : georgetown\n",
      "City not found. Skipping...\n",
      "Processing Record: 424 : zhigansk\n",
      "Processing Record: 425 : altay\n",
      "Processing Record: 426 : hambantota\n",
      "Processing Record: 427 : mehamn\n",
      "Processing Record: 428 : oranjemund\n",
      "Processing Record: 429 : oktyabrskiy\n",
      "Processing Record: 430 : northam\n",
      "Processing Record: 431 : mahebourg\n",
      "City not found. Skipping...\n",
      "Processing Record: 433 : tuatapere\n",
      "City not found. Skipping...\n",
      "City not found. Skipping...\n",
      "Processing Record: 436 : teya\n",
      "Processing Record: 437 : waddan\n",
      "Processing Record: 438 : san ramon\n",
      "Processing Record: 439 : batagay-alyta\n",
      "Processing Record: 440 : broken hill\n",
      "Processing Record: 441 : muborak\n",
      "Processing Record: 442 : kollegal\n",
      "Processing Record: 443 : husavik\n",
      "Processing Record: 444 : roebourne\n",
      "Processing Record: 445 : hobyo\n",
      "Processing Record: 446 : xining\n",
      "City not found. Skipping...\n",
      "Processing Record: 448 : dawlatabad\n",
      "Processing Record: 449 : dmytrivka\n",
      "Processing Record: 450 : naze\n",
      "Processing Record: 451 : alta floresta\n",
      "Processing Record: 452 : zhezkazgan\n",
      "Processing Record: 453 : keflavik\n",
      "Processing Record: 454 : menongue\n",
      "Processing Record: 455 : harper\n",
      "Processing Record: 456 : bonga\n",
      "Processing Record: 457 : goroka\n",
      "Processing Record: 458 : nizhniy odes\n",
      "Processing Record: 459 : moussoro\n",
      "Processing Record: 460 : viedma\n",
      "Processing Record: 461 : kilrush\n",
      "Processing Record: 462 : boston\n",
      "Processing Record: 463 : jining\n",
      "Processing Record: 464 : neftcala\n",
      "Processing Record: 465 : joshimath\n",
      "Processing Record: 466 : tortoli\n",
      "Processing Record: 467 : jiuquan\n",
      "Processing Record: 468 : waingapu\n",
      "Processing Record: 469 : half moon bay\n",
      "Processing Record: 470 : zwedru\n",
      "Processing Record: 471 : taxisco\n",
      "Processing Record: 472 : jinxiang\n",
      "Processing Record: 473 : atbasar\n",
      "Processing Record: 474 : saldanha\n",
      "Processing Record: 475 : saint-francois\n",
      "Processing Record: 476 : saint-pierre\n",
      "Processing Record: 477 : san quintin\n",
      "Processing Record: 478 : mildura\n",
      "Processing Record: 479 : kahului\n",
      "Processing Record: 480 : high level\n",
      "Processing Record: 481 : cherdyn\n",
      "Processing Record: 482 : pleasant grove\n",
      "Processing Record: 483 : xingyi\n"
     ]
    },
    {
     "name": "stdout",
     "output_type": "stream",
     "text": [
      "Processing Record: 484 : toora-khem\n",
      "Processing Record: 485 : pacific grove\n",
      "Processing Record: 486 : inirida\n",
      "Processing Record: 487 : saint stephen\n",
      "Processing Record: 488 : balkanabat\n",
      "Processing Record: 489 : manicore\n",
      "Processing Record: 490 : balaipungut\n",
      "Processing Record: 491 : ardakan\n",
      "Processing Record: 492 : las choapas\n",
      "Processing Record: 493 : shache\n",
      "Processing Record: 494 : bekasi\n",
      "Processing Record: 495 : keskin\n",
      "Processing Record: 496 : progreso\n",
      "Processing Record: 497 : ocala\n",
      "City not found. Skipping...\n",
      "Processing Record: 499 : mucurapo\n",
      "Processing Record: 500 : karpogory\n",
      "Processing Record: 501 : atambua\n",
      "Processing Record: 502 : ivanteyevka\n",
      "Processing Record: 503 : nyrob\n",
      "City not found. Skipping...\n",
      "Processing Record: 505 : svarstad\n",
      "City not found. Skipping...\n",
      "Processing Record: 507 : ajaccio\n",
      "Processing Record: 508 : bambanglipuro\n",
      "Processing Record: 509 : kirensk\n",
      "Processing Record: 510 : cap-aux-meules\n",
      "Processing Record: 511 : roald\n",
      "Processing Record: 512 : ulaanbaatar\n",
      "Processing Record: 513 : griffith\n",
      "Processing Record: 514 : ambon\n",
      "Processing Record: 515 : sangmelima\n",
      "City not found. Skipping...\n",
      "City not found. Skipping...\n",
      "Processing Record: 518 : bassar\n",
      "Processing Record: 519 : marsa matruh\n",
      "City not found. Skipping...\n",
      "Processing Record: 521 : liuzhou\n",
      "City not found. Skipping...\n",
      "Processing Record: 523 : matamoros\n",
      "City not found. Skipping...\n",
      "Processing Record: 525 : cockburn town\n",
      "Processing Record: 526 : bathsheba\n",
      "Processing Record: 527 : senigallia\n",
      "Processing Record: 528 : lithakia\n",
      "Processing Record: 529 : bilma\n",
      "Processing Record: 530 : gao\n",
      "Processing Record: 531 : maceio\n",
      "Processing Record: 532 : tamuin\n",
      "Processing Record: 533 : ilo\n",
      "Processing Record: 534 : kampong thum\n",
      "Processing Record: 535 : yumen\n",
      "Processing Record: 536 : bogotol\n",
      "Processing Record: 537 : palmer\n",
      "Processing Record: 538 : leh\n",
      "Processing Record: 539 : elena\n",
      "Processing Record: 540 : bolobo\n",
      "Processing Record: 541 : champerico\n",
      "City not found. Skipping...\n",
      "Processing Record: 543 : gallup\n",
      "City not found. Skipping...\n",
      "Processing Record: 545 : merauke\n",
      "Processing Record: 546 : muzhi\n",
      "Processing Record: 547 : mackay\n",
      "Processing Record: 548 : dicabisagan\n",
      "Processing Record: 549 : campbell river\n",
      "Processing Record: 550 : tres picos\n",
      "City not found. Skipping...\n",
      "Processing Record: 552 : riyadh\n",
      "Processing Record: 553 : mezen\n",
      "Processing Record: 554 : adelaide\n",
      "Processing Record: 555 : ancud\n",
      "Processing Record: 556 : kyrylivka\n",
      "City not found. Skipping...\n",
      "Processing Record: 558 : diamantino\n",
      "Processing Record: 559 : ihosy\n",
      "Processing Record: 560 : bubaque\n",
      "Processing Record: 561 : tromso\n",
      "Processing Record: 562 : filingue\n",
      "Processing Record: 563 : yar-sale\n",
      "Processing Record: 564 : lima\n",
      "Processing Record: 565 : yangjiang\n",
      "Processing Record: 566 : diego de almagro\n",
      "Processing Record: 567 : sitrah\n",
      "Processing Record: 568 : gat\n",
      "City not found. Skipping...\n",
      "Processing Record: 570 : lippstadt\n",
      "Processing Record: 571 : ginir\n",
      "Processing Record: 572 : tiznit\n",
      "Processing Record: 573 : santa isabel\n",
      "Processing Record: 574 : novy bydzov\n",
      "Processing Record: 575 : porto novo\n",
      "Processing Record: 576 : derzhavinsk\n",
      "Processing Record: 577 : tara\n",
      "Processing Record: 578 : tashtyp\n",
      "Processing Record: 579 : montague\n",
      "Processing Record: 580 : cimislia\n",
      "Processing Record: 581 : qarqin\n",
      "Processing Record: 582 : grande prairie\n",
      "City not found. Skipping...\n",
      "Processing Record: 584 : zhangye\n",
      "Processing Record: 585 : talnakh\n",
      "Processing Record: 586 : francistown\n",
      "Processing Record: 587 : balikpapan\n",
      "Processing Record: 588 : berlevag\n",
      "Processing Record: 589 : igunga\n",
      "Processing Record: 590 : misratah\n",
      "Processing Record: 591 : asau\n",
      "Processing Record: 592 : touba\n",
      "Processing Record: 593 : celestun\n",
      "Processing Record: 594 : kirillov\n",
      "Processing Record: 595 : tual\n",
      "Processing Record: 596 : vila franca do campo\n",
      "Processing Record: 597 : rodrigues alves\n",
      "Processing Record: 598 : gamba\n",
      "Processing Record: 599 : sinnamary\n",
      "Processing Record: 600 : joura\n",
      "Processing Record: 601 : zyryanka\n",
      "Processing Record: 602 : meulaboh\n",
      "Processing Record: 603 : kruisfontein\n",
      "Processing Record: 604 : reyes\n"
     ]
    }
   ],
   "source": [
    "# Loop trough the list of cities and perform a request on each\n",
    "\n",
    "print(f\"\"\"\n",
    "Beginning Data Retrieval\n",
    "----------------------------\"\"\")\n",
    "\n",
    "for i, city in enumerate(cities):\n",
    "    query_url = f\"{base_url}{city}&appid={weather_api_key}\"\n",
    "    response = requests.get(query_url).json()\n",
    "    #print(json.dumps(response, indent = 4))\n",
    "    try:\n",
    "        lat.append(response[\"coord\"][\"lat\"])\n",
    "        lng.append(response[\"coord\"][\"lon\"])\n",
    "        max_temp.append(response[\"main\"][\"temp_max\"])\n",
    "        humidity.append(response[\"main\"][\"humidity\"])\n",
    "        cloudiness.append(response[\"clouds\"][\"all\"])\n",
    "        wind_speed.append(response[\"wind\"][\"speed\"])\n",
    "        country_code.append(response[\"sys\"][\"country\"])\n",
    "        print(f\"Processing Record: {i} : {city}\")\n",
    "    except:\n",
    "        print(f\"City not found. Skipping...\")\n",
    "        \n",
    "        lat.append(None)\n",
    "        lng.append(None)\n",
    "        max_temp.append(None)\n",
    "        humidity.append(None)\n",
    "        cloudiness.append(None)\n",
    "        wind_speed.append(None)\n",
    "        country_code.append(None)\n",
    "        "
   ]
  },
  {
   "cell_type": "markdown",
   "metadata": {},
   "source": [
    "### Convert Raw Data to DataFrame\n",
    "* Export the city data into a .csv.\n",
    "* Display the DataFrame"
   ]
  },
  {
   "cell_type": "code",
   "execution_count": 8,
   "metadata": {},
   "outputs": [
    {
     "data": {
      "text/html": [
       "<div>\n",
       "<style scoped>\n",
       "    .dataframe tbody tr th:only-of-type {\n",
       "        vertical-align: middle;\n",
       "    }\n",
       "\n",
       "    .dataframe tbody tr th {\n",
       "        vertical-align: top;\n",
       "    }\n",
       "\n",
       "    .dataframe thead th {\n",
       "        text-align: right;\n",
       "    }\n",
       "</style>\n",
       "<table border=\"1\" class=\"dataframe\">\n",
       "  <thead>\n",
       "    <tr style=\"text-align: right;\">\n",
       "      <th></th>\n",
       "      <th>City</th>\n",
       "      <th>Lat</th>\n",
       "      <th>Lng</th>\n",
       "      <th>Max Temp</th>\n",
       "      <th>Humidity</th>\n",
       "      <th>Cloudiness</th>\n",
       "      <th>Wind Speed</th>\n",
       "      <th>Country Code</th>\n",
       "    </tr>\n",
       "  </thead>\n",
       "  <tbody>\n",
       "    <tr>\n",
       "      <th>0</th>\n",
       "      <td>jamestown</td>\n",
       "      <td>42.0970</td>\n",
       "      <td>-79.2353</td>\n",
       "      <td>268.15</td>\n",
       "      <td>93.0</td>\n",
       "      <td>90.0</td>\n",
       "      <td>2.57</td>\n",
       "      <td>US</td>\n",
       "    </tr>\n",
       "    <tr>\n",
       "      <th>1</th>\n",
       "      <td>ignacio zaragoza</td>\n",
       "      <td>28.3833</td>\n",
       "      <td>-107.2167</td>\n",
       "      <td>279.82</td>\n",
       "      <td>45.0</td>\n",
       "      <td>45.0</td>\n",
       "      <td>3.58</td>\n",
       "      <td>MX</td>\n",
       "    </tr>\n",
       "    <tr>\n",
       "      <th>2</th>\n",
       "      <td>kodiak</td>\n",
       "      <td>57.7900</td>\n",
       "      <td>-152.4072</td>\n",
       "      <td>275.19</td>\n",
       "      <td>94.0</td>\n",
       "      <td>100.0</td>\n",
       "      <td>14.17</td>\n",
       "      <td>US</td>\n",
       "    </tr>\n",
       "    <tr>\n",
       "      <th>3</th>\n",
       "      <td>umm lajj</td>\n",
       "      <td>25.0213</td>\n",
       "      <td>37.2685</td>\n",
       "      <td>297.17</td>\n",
       "      <td>53.0</td>\n",
       "      <td>0.0</td>\n",
       "      <td>0.58</td>\n",
       "      <td>SA</td>\n",
       "    </tr>\n",
       "    <tr>\n",
       "      <th>4</th>\n",
       "      <td>wuan</td>\n",
       "      <td>31.6836</td>\n",
       "      <td>112.0044</td>\n",
       "      <td>294.42</td>\n",
       "      <td>37.0</td>\n",
       "      <td>0.0</td>\n",
       "      <td>1.42</td>\n",
       "      <td>CN</td>\n",
       "    </tr>\n",
       "  </tbody>\n",
       "</table>\n",
       "</div>"
      ],
      "text/plain": [
       "               City      Lat       Lng  Max Temp  Humidity  Cloudiness  \\\n",
       "0         jamestown  42.0970  -79.2353    268.15      93.0        90.0   \n",
       "1  ignacio zaragoza  28.3833 -107.2167    279.82      45.0        45.0   \n",
       "2            kodiak  57.7900 -152.4072    275.19      94.0       100.0   \n",
       "3          umm lajj  25.0213   37.2685    297.17      53.0         0.0   \n",
       "4              wuan  31.6836  112.0044    294.42      37.0         0.0   \n",
       "\n",
       "   Wind Speed Country Code  \n",
       "0        2.57           US  \n",
       "1        3.58           MX  \n",
       "2       14.17           US  \n",
       "3        0.58           SA  \n",
       "4        1.42           CN  "
      ]
     },
     "execution_count": 8,
     "metadata": {},
     "output_type": "execute_result"
    }
   ],
   "source": [
    "weather_df = pd.DataFrame({\n",
    "        \"City\": cities,\n",
    "        \"Lat\" : lat,\n",
    "        \"Lng\" : lng,\n",
    "        \"Max Temp\" : max_temp,\n",
    "        \"Humidity\" : humidity,\n",
    "        \"Cloudiness\" : cloudiness,\n",
    "        \"Wind Speed\" : wind_speed,\n",
    "        \"Country Code\" : country_code\n",
    "                          })\n",
    "\n",
    "weather_df.head()"
   ]
  },
  {
   "cell_type": "code",
   "execution_count": 9,
   "metadata": {},
   "outputs": [
    {
     "data": {
      "text/html": [
       "<div>\n",
       "<style scoped>\n",
       "    .dataframe tbody tr th:only-of-type {\n",
       "        vertical-align: middle;\n",
       "    }\n",
       "\n",
       "    .dataframe tbody tr th {\n",
       "        vertical-align: top;\n",
       "    }\n",
       "\n",
       "    .dataframe thead th {\n",
       "        text-align: right;\n",
       "    }\n",
       "</style>\n",
       "<table border=\"1\" class=\"dataframe\">\n",
       "  <thead>\n",
       "    <tr style=\"text-align: right;\">\n",
       "      <th></th>\n",
       "      <th>Lat</th>\n",
       "      <th>Lng</th>\n",
       "      <th>Max Temp</th>\n",
       "      <th>Humidity</th>\n",
       "      <th>Cloudiness</th>\n",
       "      <th>Wind Speed</th>\n",
       "    </tr>\n",
       "  </thead>\n",
       "  <tbody>\n",
       "    <tr>\n",
       "      <th>count</th>\n",
       "      <td>554.000000</td>\n",
       "      <td>554.000000</td>\n",
       "      <td>554.000000</td>\n",
       "      <td>554.000000</td>\n",
       "      <td>554.000000</td>\n",
       "      <td>554.000000</td>\n",
       "    </tr>\n",
       "    <tr>\n",
       "      <th>mean</th>\n",
       "      <td>22.027642</td>\n",
       "      <td>17.492463</td>\n",
       "      <td>281.781191</td>\n",
       "      <td>74.909747</td>\n",
       "      <td>52.243682</td>\n",
       "      <td>3.596715</td>\n",
       "    </tr>\n",
       "    <tr>\n",
       "      <th>std</th>\n",
       "      <td>33.072327</td>\n",
       "      <td>88.534525</td>\n",
       "      <td>17.648214</td>\n",
       "      <td>18.692694</td>\n",
       "      <td>40.336740</td>\n",
       "      <td>2.691935</td>\n",
       "    </tr>\n",
       "    <tr>\n",
       "      <th>min</th>\n",
       "      <td>-54.800000</td>\n",
       "      <td>-179.166700</td>\n",
       "      <td>238.120000</td>\n",
       "      <td>1.000000</td>\n",
       "      <td>0.000000</td>\n",
       "      <td>0.070000</td>\n",
       "    </tr>\n",
       "    <tr>\n",
       "      <th>25%</th>\n",
       "      <td>-5.489050</td>\n",
       "      <td>-61.475050</td>\n",
       "      <td>268.812500</td>\n",
       "      <td>67.000000</td>\n",
       "      <td>1.250000</td>\n",
       "      <td>1.540000</td>\n",
       "    </tr>\n",
       "    <tr>\n",
       "      <th>50%</th>\n",
       "      <td>28.520900</td>\n",
       "      <td>24.545750</td>\n",
       "      <td>287.095000</td>\n",
       "      <td>80.000000</td>\n",
       "      <td>57.500000</td>\n",
       "      <td>3.000000</td>\n",
       "    </tr>\n",
       "    <tr>\n",
       "      <th>75%</th>\n",
       "      <td>48.325075</td>\n",
       "      <td>91.944600</td>\n",
       "      <td>296.297500</td>\n",
       "      <td>88.000000</td>\n",
       "      <td>90.000000</td>\n",
       "      <td>4.872500</td>\n",
       "    </tr>\n",
       "    <tr>\n",
       "      <th>max</th>\n",
       "      <td>78.218600</td>\n",
       "      <td>178.416700</td>\n",
       "      <td>308.150000</td>\n",
       "      <td>100.000000</td>\n",
       "      <td>100.000000</td>\n",
       "      <td>19.550000</td>\n",
       "    </tr>\n",
       "  </tbody>\n",
       "</table>\n",
       "</div>"
      ],
      "text/plain": [
       "              Lat         Lng    Max Temp    Humidity  Cloudiness  Wind Speed\n",
       "count  554.000000  554.000000  554.000000  554.000000  554.000000  554.000000\n",
       "mean    22.027642   17.492463  281.781191   74.909747   52.243682    3.596715\n",
       "std     33.072327   88.534525   17.648214   18.692694   40.336740    2.691935\n",
       "min    -54.800000 -179.166700  238.120000    1.000000    0.000000    0.070000\n",
       "25%     -5.489050  -61.475050  268.812500   67.000000    1.250000    1.540000\n",
       "50%     28.520900   24.545750  287.095000   80.000000   57.500000    3.000000\n",
       "75%     48.325075   91.944600  296.297500   88.000000   90.000000    4.872500\n",
       "max     78.218600  178.416700  308.150000  100.000000  100.000000   19.550000"
      ]
     },
     "execution_count": 9,
     "metadata": {},
     "output_type": "execute_result"
    }
   ],
   "source": [
    "weather_df.describe()"
   ]
  },
  {
   "cell_type": "markdown",
   "metadata": {},
   "source": [
    "## Inspect the data and remove the cities where the humidity > 100%.\n",
    "----\n",
    "Skip this step if there are no cities that have humidity > 100%. "
   ]
  },
  {
   "cell_type": "code",
   "execution_count": 12,
   "metadata": {},
   "outputs": [
    {
     "data": {
      "text/html": [
       "<div>\n",
       "<style scoped>\n",
       "    .dataframe tbody tr th:only-of-type {\n",
       "        vertical-align: middle;\n",
       "    }\n",
       "\n",
       "    .dataframe tbody tr th {\n",
       "        vertical-align: top;\n",
       "    }\n",
       "\n",
       "    .dataframe thead th {\n",
       "        text-align: right;\n",
       "    }\n",
       "</style>\n",
       "<table border=\"1\" class=\"dataframe\">\n",
       "  <thead>\n",
       "    <tr style=\"text-align: right;\">\n",
       "      <th></th>\n",
       "      <th>City</th>\n",
       "      <th>Lat</th>\n",
       "      <th>Lng</th>\n",
       "      <th>Max Temp</th>\n",
       "      <th>Humidity</th>\n",
       "      <th>Cloudiness</th>\n",
       "      <th>Wind Speed</th>\n",
       "      <th>Country Code</th>\n",
       "    </tr>\n",
       "  </thead>\n",
       "  <tbody>\n",
       "  </tbody>\n",
       "</table>\n",
       "</div>"
      ],
      "text/plain": [
       "Empty DataFrame\n",
       "Columns: [City, Lat, Lng, Max Temp, Humidity, Cloudiness, Wind Speed, Country Code]\n",
       "Index: []"
      ]
     },
     "execution_count": 12,
     "metadata": {},
     "output_type": "execute_result"
    }
   ],
   "source": [
    "humidity_over_100 = weather_df.loc[weather_df[\"Humidity\"] > 100]\n",
    "humidity_over_100"
   ]
  },
  {
   "cell_type": "markdown",
   "metadata": {},
   "source": [
    "## Plotting the Data\n",
    "* Use proper labeling of the plots using plot titles (including date of analysis) and axes labels.\n",
    "* Save the plotted figures as .pngs."
   ]
  },
  {
   "cell_type": "markdown",
   "metadata": {},
   "source": [
    "## Latitude vs. Temperature Plot"
   ]
  },
  {
   "cell_type": "code",
   "execution_count": 27,
   "metadata": {
    "scrolled": true
   },
   "outputs": [
    {
     "data": {
      "text/plain": [
       "Text(0, 0.5, 'Max Temperature (F)')"
      ]
     },
     "execution_count": 27,
     "metadata": {},
     "output_type": "execute_result"
    },
    {
     "data": {
      "image/png": "[encoded data removed]",
      "text/plain": [
       "<Figure size 432x288 with 1 Axes>"
      ]
     },
     "metadata": {
      "needs_background": "light"
     },
     "output_type": "display_data"
    }
   ],
   "source": [
    "#Scatter Plot for Lat vs Max Temp\n",
    "\n",
    "x_values = weather_df[\"Lat\"]\n",
    "y_values = weather_df[\"Max Temp\"]\n",
    "plt.scatter(x_values, y_values)\n",
    "plt.title(\"Cities' Latitude vs. Max Temperature\")\n",
    "plt.xlabel(\"Latitude\")\n",
    "plt.ylabel(\"Max Temperature (F)\")"
   ]
  },
  {
   "cell_type": "markdown",
   "metadata": {},
   "source": [
    "- It seems that Latitude and Maximum Temperature of a City has a negative correlation from the Latitude 0 to the other higher latitudes, this means that from Latitude 0, the higher the Latitude of a city, it would be expected that the Maximum Tempereature will be lower. The behavior of the cities with negative latitudes is peculiar, their temperature is higher as their latitudes get close to the Latitude 0."
   ]
  },
  {
   "cell_type": "code",
   "execution_count": 28,
   "metadata": {},
   "outputs": [
    {
     "data": {
      "text/plain": [
       "<Figure size 432x288 with 0 Axes>"
      ]
     },
     "metadata": {},
     "output_type": "display_data"
    }
   ],
   "source": [
    "#Save the plot\n",
    "plt.savefig(\"Images/Lat_vs_Temp.png\")"
   ]
  },
  {
   "cell_type": "markdown",
   "metadata": {},
   "source": [
    "## Latitude vs. Humidity Plot"
   ]
  },
  {
   "cell_type": "code",
   "execution_count": 25,
   "metadata": {},
   "outputs": [
    {
     "data": {
      "text/plain": [
       "Text(0, 0.5, 'Humidity')"
      ]
     },
     "execution_count": 25,
     "metadata": {},
     "output_type": "execute_result"
    },
    {
     "data": {
      "image/png": "[encoded data removed]",
      "text/plain": [
       "<Figure size 432x288 with 1 Axes>"
      ]
     },
     "metadata": {
      "needs_background": "light"
     },
     "output_type": "display_data"
    }
   ],
   "source": [
    "#Scatter Plot for Lat vs Humidity\n",
    "\n",
    "x_values = weather_df[\"Lat\"]\n",
    "y_values = weather_df[\"Humidity\"]\n",
    "plt.scatter(x_values, y_values, color = \"r\")\n",
    "plt.title(\"Cities' Latitude vs. Humidity\")\n",
    "plt.xlabel(\"Latitude\")\n",
    "plt.ylabel(\"Humidity\")"
   ]
  },
  {
   "cell_type": "markdown",
   "metadata": {},
   "source": [
    "- From the scatter plot above, it can be assumed that there is no relation between cities' latitude and humidity."
   ]
  },
  {
   "cell_type": "code",
   "execution_count": 26,
   "metadata": {},
   "outputs": [
    {
     "data": {
      "text/plain": [
       "<Figure size 432x288 with 0 Axes>"
      ]
     },
     "metadata": {},
     "output_type": "display_data"
    }
   ],
   "source": [
    "#Save the plot\n",
    "plt.savefig(\"Images/Lat_vs_Hum.png\")"
   ]
  },
  {
   "cell_type": "markdown",
   "metadata": {},
   "source": [
    "## Latitude vs. Cloudiness Plot"
   ]
  },
  {
   "cell_type": "code",
   "execution_count": 29,
   "metadata": {},
   "outputs": [
    {
     "data": {
      "text/plain": [
       "Text(0, 0.5, 'Cloudiness')"
      ]
     },
     "execution_count": 29,
     "metadata": {},
     "output_type": "execute_result"
    },
    {
     "data": {
      "image/png": "[encoded data removed]",
      "text/plain": [
       "<Figure size 432x288 with 1 Axes>"
      ]
     },
     "metadata": {
      "needs_background": "light"
     },
     "output_type": "display_data"
    }
   ],
   "source": [
    "#Scatter Plot for Lat vs Humidity\n",
    "\n",
    "x_values = weather_df[\"Lat\"]\n",
    "y_values = weather_df[\"Cloudiness\"]\n",
    "plt.scatter(x_values, y_values, color = \"b\")\n",
    "plt.title(\"Cities' Latitude vs. Cloudiness\")\n",
    "plt.xlabel(\"Latitude\")\n",
    "plt.ylabel(\"Cloudiness\")"
   ]
  },
  {
   "cell_type": "markdown",
   "metadata": {},
   "source": [
    "- Cities' Latitude vs Cloudiness scatterplot shows that it does not matter the latitude of a city, the cloudiness can be expected to behavior at any level."
   ]
  },
  {
   "cell_type": "code",
   "execution_count": 30,
   "metadata": {},
   "outputs": [
    {
     "data": {
      "text/plain": [
       "<Figure size 432x288 with 0 Axes>"
      ]
     },
     "metadata": {},
     "output_type": "display_data"
    }
   ],
   "source": [
    "#Save the plot\n",
    "plt.savefig(\"Images/Lat_vs_Cloud.png\")"
   ]
  },
  {
   "cell_type": "markdown",
   "metadata": {},
   "source": [
    "## Latitude vs. Wind Speed Plot"
   ]
  },
  {
   "cell_type": "code",
   "execution_count": 31,
   "metadata": {},
   "outputs": [
    {
     "data": {
      "text/plain": [
       "Text(0, 0.5, 'Wind Speed')"
      ]
     },
     "execution_count": 31,
     "metadata": {},
     "output_type": "execute_result"
    },
    {
     "data": {
      "image/png": "[encoded data removed]",
      "text/plain": [
       "<Figure size 432x288 with 1 Axes>"
      ]
     },
     "metadata": {
      "needs_background": "light"
     },
     "output_type": "display_data"
    }
   ],
   "source": [
    "#Scatter Plot for Lat vs Humidity\n",
    "\n",
    "x_values = weather_df[\"Lat\"]\n",
    "y_values = weather_df[\"Wind Speed\"]\n",
    "plt.scatter(x_values, y_values, color = \"g\")\n",
    "plt.title(\"Cities' Latitude vs. Wind Speed\")\n",
    "plt.xlabel(\"Latitude\")\n",
    "plt.ylabel(\"Wind Speed\")"
   ]
  },
  {
   "cell_type": "markdown",
   "metadata": {},
   "source": [
    "- Even when relationship between Latitude and Wind Speed does not seem to be highly strong, it is a slightly behavior in cities with a higher latitude, where the wind speed is higher too, we can see this specially in cities with a latitude above 40 degrees."
   ]
  },
  {
   "cell_type": "code",
   "execution_count": 32,
   "metadata": {},
   "outputs": [
    {
     "data": {
      "text/plain": [
       "<Figure size 432x288 with 0 Axes>"
      ]
     },
     "metadata": {},
     "output_type": "display_data"
    }
   ],
   "source": [
    "#Save the plot\n",
    "plt.savefig(\"Images/Lat_vs_Wind.png\")"
   ]
  },
  {
   "cell_type": "markdown",
   "metadata": {},
   "source": [
    "## Linear Regression"
   ]
  },
  {
   "cell_type": "markdown",
   "metadata": {},
   "source": [
    "####  Northern Hemisphere - Max Temp vs. Latitude Linear Regression"
   ]
  },
  {
   "cell_type": "code",
   "execution_count": null,
   "metadata": {},
   "outputs": [],
   "source": []
  },
  {
   "cell_type": "markdown",
   "metadata": {},
   "source": [
    "####  Southern Hemisphere - Max Temp vs. Latitude Linear Regression"
   ]
  },
  {
   "cell_type": "code",
   "execution_count": null,
   "metadata": {},
   "outputs": [],
   "source": []
  },
  {
   "cell_type": "markdown",
   "metadata": {},
   "source": [
    "####  Northern Hemisphere - Humidity (%) vs. Latitude Linear Regression"
   ]
  },
  {
   "cell_type": "code",
   "execution_count": null,
   "metadata": {},
   "outputs": [],
   "source": []
  },
  {
   "cell_type": "markdown",
   "metadata": {},
   "source": [
    "####  Southern Hemisphere - Humidity (%) vs. Latitude Linear Regression"
   ]
  },
  {
   "cell_type": "code",
   "execution_count": null,
   "metadata": {},
   "outputs": [],
   "source": []
  },
  {
   "cell_type": "markdown",
   "metadata": {},
   "source": [
    "####  Northern Hemisphere - Cloudiness (%) vs. Latitude Linear Regression"
   ]
  },
  {
   "cell_type": "code",
   "execution_count": null,
   "metadata": {},
   "outputs": [],
   "source": []
  },
  {
   "cell_type": "markdown",
   "metadata": {},
   "source": [
    "####  Southern Hemisphere - Cloudiness (%) vs. Latitude Linear Regression"
   ]
  },
  {
   "cell_type": "code",
   "execution_count": null,
   "metadata": {},
   "outputs": [],
   "source": []
  },
  {
   "cell_type": "markdown",
   "metadata": {},
   "source": [
    "####  Northern Hemisphere - Wind Speed (mph) vs. Latitude Linear Regression"
   ]
  },
  {
   "cell_type": "code",
   "execution_count": null,
   "metadata": {},
   "outputs": [],
   "source": []
  },
  {
   "cell_type": "markdown",
   "metadata": {},
   "source": [
    "####  Southern Hemisphere - Wind Speed (mph) vs. Latitude Linear Regression"
   ]
  },
  {
   "cell_type": "code",
   "execution_count": null,
   "metadata": {},
   "outputs": [],
   "source": []
  },
  {
   "cell_type": "code",
   "execution_count": null,
   "metadata": {},
   "outputs": [],
   "source": []
  }
 ],
 "metadata": {
  "anaconda-cloud": {},
  "kernel_info": {
   "name": "python3"
  },
  "kernelspec": {
   "display_name": "Python [conda env:pythonData] *",
   "language": "python",
   "name": "conda-env-pythonData-py"
  },
  "language_info": {
   "codemirror_mode": {
    "name": "ipython",
    "version": 3
   },
   "file_extension": ".py",
   "mimetype": "text/x-python",
   "name": "python",
   "nbconvert_exporter": "python",
   "pygments_lexer": "ipython3",
   "version": "3.6.10"
  },
  "latex_envs": {
   "LaTeX_envs_menu_present": true,
   "autoclose": false,
   "autocomplete": true,
   "bibliofile": "biblio.bib",
   "cite_by": "apalike",
   "current_citInitial": 1,
   "eqLabelWithNumbers": true,
   "eqNumInitial": 1,
   "hotkeys": {
    "equation": "Ctrl-E",
    "itemize": "Ctrl-I"
   },
   "labels_anchors": false,
   "latex_user_defs": false,
   "report_style_numbering": false,
   "user_envs_cfg": false
  },
  "nteract": {
   "version": "0.12.3"
  }
 },
 "nbformat": 4,
 "nbformat_minor": 2
}
