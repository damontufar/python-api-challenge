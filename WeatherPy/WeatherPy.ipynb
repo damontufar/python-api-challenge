{
 "cells": [
  {
   "cell_type": "markdown",
   "metadata": {},
   "source": [
    "# WeatherPy\n",
    "----\n",
    "\n",
    "#### Note\n",
    "* Instructions have been included for each segment. You do not have to follow them exactly, but they are included to help you think through the steps."
   ]
  },
  {
   "cell_type": "code",
   "execution_count": 8,
   "metadata": {
    "scrolled": true
   },
   "outputs": [],
   "source": [
    "# Dependencies and Setup\n",
    "import matplotlib.pyplot as plt\n",
    "import pandas as pd\n",
    "import numpy as np\n",
    "import requests\n",
    "import time\n",
    "import json\n",
    "import os\n",
    "from scipy.stats import linregress\n",
    "\n",
    "# Import API key\n",
    "from api_keys import weather_api_key\n",
    "\n",
    "# Incorporated citipy to determine city based on latitude and longitude\n",
    "from citipy import citipy\n",
    "\n",
    "# Output File (CSV)\n",
    "output_data_file = \"output_data/cities.csv\"\n",
    "\n",
    "# Range of latitudes and longitudes\n",
    "lat_range = (-90, 90)\n",
    "lng_range = (-180, 180)"
   ]
  },
  {
   "cell_type": "markdown",
   "metadata": {},
   "source": [
    "## Generate Cities List"
   ]
  },
  {
   "cell_type": "code",
   "execution_count": 2,
   "metadata": {},
   "outputs": [
    {
     "data": {
      "text/plain": [
       "619"
      ]
     },
     "execution_count": 2,
     "metadata": {},
     "output_type": "execute_result"
    }
   ],
   "source": [
    "# List for holding lat_lngs and cities\n",
    "lat_lngs = []\n",
    "cities = []\n",
    "\n",
    "# Create a set of random lat and lng combinations\n",
    "lats = np.random.uniform(lat_range[0], lat_range[1], size=1500)\n",
    "lngs = np.random.uniform(lng_range[0], lng_range[1], size=1500)\n",
    "lat_lngs = zip(lats, lngs)\n",
    "\n",
    "# Identify nearest city for each lat, lng combination\n",
    "for lat_lng in lat_lngs:\n",
    "    city = citipy.nearest_city(lat_lng[0], lat_lng[1]).city_name\n",
    "    \n",
    "    # If the city is unique, then add it to a our cities list\n",
    "    if city not in cities:\n",
    "        cities.append(city)\n",
    "\n",
    "# Print the city count to confirm sufficient count\n",
    "len(cities)"
   ]
  },
  {
   "cell_type": "markdown",
   "metadata": {},
   "source": [
    "### Perform API Calls\n",
    "* Perform a weather check on each city using a series of successive API calls.\n",
    "* Include a print log of each city as it'sbeing processed (with the city number and city name).\n"
   ]
  },
  {
   "cell_type": "code",
   "execution_count": 3,
   "metadata": {},
   "outputs": [],
   "source": [
    "#Assign base url for API's call\n",
    "\n",
    "base_url = \"http://api.openweathermap.org/data/2.5/weather?q=\""
   ]
  },
  {
   "cell_type": "code",
   "execution_count": 4,
   "metadata": {},
   "outputs": [],
   "source": [
    "#Set empty lists to hold cities data\n",
    "\n",
    "lat = []\n",
    "lng = []\n",
    "max_temp = []\n",
    "humidity = []\n",
    "cloudiness = []\n",
    "wind_speed = []\n",
    "country_code = []"
   ]
  },
  {
   "cell_type": "code",
   "execution_count": 5,
   "metadata": {
    "scrolled": true
   },
   "outputs": [
    {
     "name": "stdout",
     "output_type": "stream",
     "text": [
      "\n",
      "Beginning Data Retrieval\n",
      "----------------------------\n",
      "Processing Record: 0 : castro\n",
      "City not found. Skipping...\n",
      "Processing Record: 2 : fortuna\n",
      "Processing Record: 3 : mar del plata\n",
      "Processing Record: 4 : hermanus\n",
      "Processing Record: 5 : korla\n",
      "Processing Record: 6 : avarua\n",
      "City not found. Skipping...\n",
      "Processing Record: 8 : sibolga\n",
      "Processing Record: 9 : new norfolk\n",
      "Processing Record: 10 : ballina\n",
      "Processing Record: 11 : busselton\n",
      "Processing Record: 12 : hasaki\n",
      "City not found. Skipping...\n",
      "Processing Record: 14 : uvinza\n",
      "Processing Record: 15 : vaini\n",
      "City not found. Skipping...\n",
      "Processing Record: 17 : maniitsoq\n",
      "Processing Record: 18 : punta arenas\n",
      "Processing Record: 19 : elizabeth city\n",
      "City not found. Skipping...\n",
      "Processing Record: 21 : mogzon\n",
      "Processing Record: 22 : poum\n",
      "Processing Record: 23 : hamilton\n",
      "Processing Record: 24 : georgetown\n",
      "Processing Record: 25 : saldanha\n",
      "Processing Record: 26 : hobart\n",
      "Processing Record: 27 : colares\n",
      "Processing Record: 28 : hithadhoo\n",
      "Processing Record: 29 : eureka\n",
      "Processing Record: 30 : rikitea\n",
      "Processing Record: 31 : heidelberg\n",
      "Processing Record: 32 : airai\n",
      "Processing Record: 33 : vila velha\n",
      "Processing Record: 34 : olafsvik\n",
      "Processing Record: 35 : san patricio\n",
      "Processing Record: 36 : vestmannaeyjar\n",
      "Processing Record: 37 : yellowknife\n",
      "Processing Record: 38 : khasan\n",
      "Processing Record: 39 : pontianak\n",
      "Processing Record: 40 : souillac\n",
      "Processing Record: 41 : severo-kurilsk\n",
      "Processing Record: 42 : chokurdakh\n",
      "Processing Record: 43 : flinders\n",
      "Processing Record: 44 : jacareacanga\n",
      "Processing Record: 45 : vysokogornyy\n",
      "Processing Record: 46 : ouadda\n",
      "Processing Record: 47 : haines junction\n",
      "Processing Record: 48 : batemans bay\n",
      "Processing Record: 49 : nikolskoye\n",
      "City not found. Skipping...\n",
      "Processing Record: 51 : khatanga\n",
      "Processing Record: 52 : port elizabeth\n",
      "Processing Record: 53 : auburn\n",
      "Processing Record: 54 : albany\n",
      "Processing Record: 55 : ribeira grande\n",
      "Processing Record: 56 : amparafaravola\n",
      "City not found. Skipping...\n",
      "Processing Record: 58 : arraial do cabo\n",
      "Processing Record: 59 : kodiak\n",
      "Processing Record: 60 : ponta do sol\n",
      "Processing Record: 61 : mount isa\n",
      "Processing Record: 62 : mataura\n",
      "Processing Record: 63 : iqaluit\n",
      "Processing Record: 64 : bilibino\n",
      "Processing Record: 65 : hofn\n",
      "Processing Record: 66 : jamestown\n",
      "City not found. Skipping...\n",
      "Processing Record: 68 : muros\n",
      "Processing Record: 69 : hilo\n",
      "Processing Record: 70 : kut chap\n",
      "Processing Record: 71 : butaritari\n",
      "Processing Record: 72 : sao joao da barra\n",
      "Processing Record: 73 : coquimbo\n",
      "Processing Record: 74 : atuona\n",
      "Processing Record: 75 : geraldton\n",
      "Processing Record: 76 : kholtoson\n",
      "Processing Record: 77 : kailua\n",
      "Processing Record: 78 : caiaponia\n",
      "Processing Record: 79 : saint-philippe\n",
      "Processing Record: 80 : cherskiy\n",
      "Processing Record: 81 : upernavik\n",
      "Processing Record: 82 : kortkeros\n",
      "Processing Record: 83 : iskateley\n",
      "Processing Record: 84 : cabo san lucas\n",
      "Processing Record: 85 : khalilabad\n",
      "Processing Record: 86 : dikson\n",
      "Processing Record: 87 : kahului\n",
      "Processing Record: 88 : angoche\n",
      "Processing Record: 89 : talnakh\n",
      "Processing Record: 90 : ushuaia\n",
      "Processing Record: 91 : karlshus\n",
      "Processing Record: 92 : yenagoa\n",
      "Processing Record: 93 : kununurra\n",
      "Processing Record: 94 : laguna\n",
      "Processing Record: 95 : narsaq\n",
      "Processing Record: 96 : lamesa\n",
      "Processing Record: 97 : north bend\n",
      "Processing Record: 98 : husavik\n",
      "City not found. Skipping...\n",
      "Processing Record: 100 : yar-sale\n",
      "Processing Record: 101 : high level\n",
      "Processing Record: 102 : nuevo imperial\n",
      "Processing Record: 103 : cidreira\n",
      "Processing Record: 104 : misratah\n",
      "Processing Record: 105 : norman wells\n",
      "Processing Record: 106 : touros\n",
      "Processing Record: 107 : bredasdorp\n",
      "Processing Record: 108 : barrow\n",
      "Processing Record: 109 : ningbo\n",
      "Processing Record: 110 : hakkari\n",
      "Processing Record: 111 : cheyenne\n",
      "Processing Record: 112 : tura\n",
      "Processing Record: 113 : east london\n",
      "Processing Record: 114 : pisco\n",
      "Processing Record: 115 : ostrovnoy\n",
      "Processing Record: 116 : lebu\n",
      "Processing Record: 117 : calatagan\n",
      "Processing Record: 118 : verkhnevilyuysk\n",
      "Processing Record: 119 : saskylakh\n",
      "Processing Record: 120 : popondetta\n",
      "Processing Record: 121 : torbay\n",
      "Processing Record: 122 : carnarvon\n",
      "City not found. Skipping...\n",
      "City not found. Skipping...\n",
      "Processing Record: 125 : vostok\n",
      "Processing Record: 126 : manjacaze\n",
      "Processing Record: 127 : kapaa\n",
      "Processing Record: 128 : guajara\n",
      "Processing Record: 129 : mahebourg\n",
      "City not found. Skipping...\n",
      "Processing Record: 131 : constitucion\n",
      "Processing Record: 132 : bowen\n",
      "Processing Record: 133 : obidos\n",
      "Processing Record: 134 : labuhan\n",
      "Processing Record: 135 : suoyarvi\n",
      "Processing Record: 136 : port lincoln\n",
      "Processing Record: 137 : bambous virieux\n",
      "Processing Record: 138 : cap malheureux\n",
      "City not found. Skipping...\n",
      "Processing Record: 140 : carutapera\n",
      "Processing Record: 141 : praia\n",
      "Processing Record: 142 : richards bay\n",
      "Processing Record: 143 : puerto escondido\n",
      "Processing Record: 144 : lata\n",
      "Processing Record: 145 : porto novo\n",
      "Processing Record: 146 : pacific grove\n",
      "Processing Record: 147 : puerto cabezas\n",
      "Processing Record: 148 : bethel\n",
      "Processing Record: 149 : murgab\n",
      "Processing Record: 150 : redlands\n",
      "Processing Record: 151 : mecca\n",
      "Processing Record: 152 : poya\n",
      "City not found. Skipping...\n",
      "Processing Record: 154 : matara\n",
      "Processing Record: 155 : necochea\n",
      "Processing Record: 156 : canguaretama\n",
      "Processing Record: 157 : shakawe\n",
      "Processing Record: 158 : port alfred\n",
      "Processing Record: 159 : meulaboh\n",
      "Processing Record: 160 : mindelo\n",
      "Processing Record: 161 : puerto ayora\n",
      "Processing Record: 162 : tuktoyaktuk\n",
      "Processing Record: 163 : hervey bay\n",
      "Processing Record: 164 : bayan\n",
      "Processing Record: 165 : auki\n",
      "Processing Record: 166 : caronport\n",
      "Processing Record: 167 : barra do garcas\n",
      "City not found. Skipping...\n",
      "Processing Record: 169 : gola gokarannath\n",
      "Processing Record: 170 : komsomolskiy\n",
      "Processing Record: 171 : atbasar\n",
      "Processing Record: 172 : norrtalje\n",
      "Processing Record: 173 : ndola\n",
      "Processing Record: 174 : klaksvik\n",
      "Processing Record: 175 : kaseda\n",
      "Processing Record: 176 : namatanai\n",
      "Processing Record: 177 : gympie\n",
      "Processing Record: 178 : buchanan\n",
      "Processing Record: 179 : xinmin\n",
      "Processing Record: 180 : ryotsu\n",
      "Processing Record: 181 : goderich\n",
      "Processing Record: 182 : junnar\n",
      "Processing Record: 183 : newburyport\n",
      "Processing Record: 184 : san pedro\n",
      "Processing Record: 185 : adrar\n",
      "Processing Record: 186 : taonan\n",
      "Processing Record: 187 : bengkulu\n",
      "Processing Record: 188 : ransang\n",
      "Processing Record: 189 : tual\n",
      "City not found. Skipping...\n",
      "Processing Record: 191 : buala\n",
      "City not found. Skipping...\n",
      "Processing Record: 193 : arkhangelsk\n",
      "Processing Record: 194 : ongandjera\n",
      "Processing Record: 195 : karratha\n",
      "Processing Record: 196 : longyearbyen\n",
      "Processing Record: 197 : aginskoye\n",
      "Processing Record: 198 : nekrasovskaya\n",
      "Processing Record: 199 : berlevag\n",
      "Processing Record: 200 : vardo\n",
      "Processing Record: 201 : port blair\n",
      "Processing Record: 202 : tucuman\n",
      "Processing Record: 203 : chuy\n",
      "Processing Record: 204 : cape town\n",
      "Processing Record: 205 : bluff\n",
      "Processing Record: 206 : waipawa\n",
      "Processing Record: 207 : bezenchuk\n",
      "Processing Record: 208 : la ronge\n",
      "Processing Record: 209 : mongo\n",
      "Processing Record: 210 : grand haven\n",
      "Processing Record: 211 : belaya gora\n",
      "Processing Record: 212 : arinos\n",
      "City not found. Skipping...\n",
      "Processing Record: 214 : lake charles\n",
      "Processing Record: 215 : stornoway\n",
      "Processing Record: 216 : thompson\n",
      "Processing Record: 217 : lavrentiya\n",
      "Processing Record: 218 : moranbah\n",
      "Processing Record: 219 : raahe\n",
      "Processing Record: 220 : half moon bay\n",
      "Processing Record: 221 : naryan-mar\n",
      "Processing Record: 222 : kuching\n",
      "Processing Record: 223 : karaton\n",
      "Processing Record: 224 : manicore\n",
      "Processing Record: 225 : te anau\n",
      "Processing Record: 226 : wasilla\n",
      "Processing Record: 227 : esil\n",
      "Processing Record: 228 : san cristobal\n",
      "Processing Record: 229 : acapulco\n",
      "Processing Record: 230 : victoria\n",
      "Processing Record: 231 : nsoko\n",
      "Processing Record: 232 : tahta\n",
      "Processing Record: 233 : nauen\n",
      "Processing Record: 234 : selfoss\n",
      "Processing Record: 235 : pevek\n",
      "City not found. Skipping...\n",
      "Processing Record: 237 : tuatapere\n",
      "Processing Record: 238 : faanui\n",
      "Processing Record: 239 : shimoda\n",
      "Processing Record: 240 : ahipara\n",
      "Processing Record: 241 : saint george\n",
      "Processing Record: 242 : camacha\n"
     ]
    },
    {
     "name": "stdout",
     "output_type": "stream",
     "text": [
      "Processing Record: 243 : ancud\n",
      "Processing Record: 244 : severnyy\n",
      "City not found. Skipping...\n",
      "Processing Record: 246 : storm lake\n",
      "Processing Record: 247 : porto santo\n",
      "Processing Record: 248 : mayo\n",
      "Processing Record: 249 : aqtobe\n",
      "Processing Record: 250 : ellisras\n",
      "Processing Record: 251 : iquique\n",
      "City not found. Skipping...\n",
      "City not found. Skipping...\n",
      "Processing Record: 254 : teguldet\n",
      "Processing Record: 255 : zumpahuacan\n",
      "Processing Record: 256 : sarangani\n",
      "Processing Record: 257 : katsuura\n",
      "Processing Record: 258 : crotone\n",
      "Processing Record: 259 : jiexiu\n",
      "Processing Record: 260 : tevaitoa\n",
      "Processing Record: 261 : alamosa\n",
      "Processing Record: 262 : querfurt\n",
      "Processing Record: 263 : gonbad-e qabus\n",
      "Processing Record: 264 : leningradskiy\n",
      "Processing Record: 265 : zaragoza\n",
      "Processing Record: 266 : yuanping\n",
      "Processing Record: 267 : guerrero negro\n",
      "Processing Record: 268 : cabrera\n",
      "Processing Record: 269 : yulara\n",
      "City not found. Skipping...\n",
      "Processing Record: 271 : birobidzhan\n",
      "Processing Record: 272 : santiago del estero\n",
      "Processing Record: 273 : deputatskiy\n",
      "Processing Record: 274 : saurimo\n",
      "Processing Record: 275 : tiksi\n",
      "Processing Record: 276 : ybycui\n",
      "Processing Record: 277 : wanning\n",
      "Processing Record: 278 : nishihara\n",
      "Processing Record: 279 : kavieng\n",
      "Processing Record: 280 : tasiilaq\n",
      "Processing Record: 281 : nyuksenitsa\n",
      "City not found. Skipping...\n",
      "Processing Record: 283 : hirara\n",
      "Processing Record: 284 : mangrol\n",
      "Processing Record: 285 : qui nhon\n",
      "Processing Record: 286 : saint-augustin\n",
      "Processing Record: 287 : lojt kirkeby\n",
      "Processing Record: 288 : xiongyue\n",
      "Processing Record: 289 : la paz\n",
      "Processing Record: 290 : galich\n",
      "Processing Record: 291 : noyabrsk\n",
      "Processing Record: 292 : vanavara\n",
      "City not found. Skipping...\n",
      "Processing Record: 294 : lima\n",
      "Processing Record: 295 : clyde river\n",
      "Processing Record: 296 : takoradi\n",
      "Processing Record: 297 : kavaratti\n",
      "Processing Record: 298 : abu dhabi\n",
      "City not found. Skipping...\n",
      "Processing Record: 300 : goure\n",
      "Processing Record: 301 : lagoa\n",
      "Processing Record: 302 : skrunda\n",
      "Processing Record: 303 : waddan\n",
      "Processing Record: 304 : provideniya\n",
      "Processing Record: 305 : amapa\n",
      "Processing Record: 306 : kaeo\n",
      "Processing Record: 307 : bassar\n",
      "Processing Record: 308 : hobyo\n",
      "Processing Record: 309 : san lorenzo\n",
      "Processing Record: 310 : arman\n",
      "Processing Record: 311 : wamba\n",
      "Processing Record: 312 : trinidad\n",
      "Processing Record: 313 : puerto suarez\n",
      "Processing Record: 314 : qaanaaq\n",
      "Processing Record: 315 : nykoping\n",
      "Processing Record: 316 : krasnoarmeysk\n",
      "Processing Record: 317 : severnoye\n",
      "Processing Record: 318 : tamworth\n",
      "Processing Record: 319 : matagalpa\n",
      "Processing Record: 320 : buzmeyin\n",
      "Processing Record: 321 : mbini\n",
      "Processing Record: 322 : aswan\n",
      "Processing Record: 323 : beloha\n",
      "Processing Record: 324 : linares\n",
      "Processing Record: 325 : grindavik\n",
      "Processing Record: 326 : okhotsk\n",
      "Processing Record: 327 : hinton\n",
      "Processing Record: 328 : port hedland\n",
      "Processing Record: 329 : bathsheba\n",
      "Processing Record: 330 : sorong\n",
      "Processing Record: 331 : esperance\n",
      "Processing Record: 332 : fontem\n",
      "City not found. Skipping...\n",
      "City not found. Skipping...\n",
      "Processing Record: 335 : manokwari\n",
      "Processing Record: 336 : marzuq\n",
      "Processing Record: 337 : suhbaatar\n",
      "Processing Record: 338 : ascension\n",
      "Processing Record: 339 : albenga\n",
      "Processing Record: 340 : kuruman\n",
      "Processing Record: 341 : york\n",
      "Processing Record: 342 : ketchikan\n",
      "Processing Record: 343 : tsumeb\n",
      "Processing Record: 344 : bousso\n",
      "Processing Record: 345 : lewistown\n",
      "Processing Record: 346 : atoyac\n",
      "Processing Record: 347 : bud\n",
      "Processing Record: 348 : tekirdag\n",
      "Processing Record: 349 : khani\n",
      "Processing Record: 350 : greencastle\n",
      "Processing Record: 351 : idrinskoye\n",
      "Processing Record: 352 : tangzhai\n",
      "Processing Record: 353 : buraydah\n",
      "City not found. Skipping...\n",
      "Processing Record: 355 : alugan\n",
      "Processing Record: 356 : caravelas\n",
      "Processing Record: 357 : magadan\n",
      "Processing Record: 358 : mana\n",
      "Processing Record: 359 : obernai\n",
      "Processing Record: 360 : algiers\n",
      "Processing Record: 361 : shingu\n",
      "Processing Record: 362 : naurskaya\n",
      "Processing Record: 363 : amur\n",
      "Processing Record: 364 : wahiawa\n",
      "City not found. Skipping...\n",
      "Processing Record: 366 : banes\n",
      "Processing Record: 367 : chara\n",
      "Processing Record: 368 : peniche\n",
      "Processing Record: 369 : koshurnikovo\n",
      "Processing Record: 370 : cedar city\n",
      "City not found. Skipping...\n",
      "Processing Record: 372 : college\n",
      "Processing Record: 373 : mackay\n",
      "Processing Record: 374 : mareeba\n",
      "Processing Record: 375 : beringovskiy\n",
      "Processing Record: 376 : susehri\n",
      "Processing Record: 377 : nanortalik\n",
      "Processing Record: 378 : thinadhoo\n",
      "Processing Record: 379 : sistranda\n",
      "Processing Record: 380 : cabo rojo\n",
      "Processing Record: 381 : mtwara\n",
      "Processing Record: 382 : kudahuvadhoo\n",
      "Processing Record: 383 : puri\n",
      "Processing Record: 384 : manggar\n",
      "Processing Record: 385 : lodja\n",
      "Processing Record: 386 : srednekolymsk\n",
      "Processing Record: 387 : walvis bay\n",
      "Processing Record: 388 : san antero\n",
      "Processing Record: 389 : darnah\n",
      "Processing Record: 390 : mendi\n",
      "Processing Record: 391 : ponta delgada\n",
      "City not found. Skipping...\n",
      "City not found. Skipping...\n",
      "Processing Record: 394 : mandal\n",
      "Processing Record: 395 : vicuna\n",
      "Processing Record: 396 : rio gallegos\n",
      "Processing Record: 397 : aracati\n",
      "Processing Record: 398 : campos\n",
      "Processing Record: 399 : sur\n",
      "Processing Record: 400 : san quintin\n",
      "Processing Record: 401 : valdivia\n",
      "Processing Record: 402 : shirvan\n",
      "Processing Record: 403 : kenai\n",
      "Processing Record: 404 : novikovo\n",
      "Processing Record: 405 : mehamn\n",
      "Processing Record: 406 : maceio\n",
      "Processing Record: 407 : agapovka\n",
      "Processing Record: 408 : margate\n",
      "Processing Record: 409 : maku\n",
      "Processing Record: 410 : cockburn town\n",
      "City not found. Skipping...\n",
      "City not found. Skipping...\n",
      "City not found. Skipping...\n",
      "Processing Record: 414 : lac du bonnet\n",
      "Processing Record: 415 : hampton\n",
      "Processing Record: 416 : dauriya\n",
      "Processing Record: 417 : ladario\n",
      "City not found. Skipping...\n",
      "Processing Record: 419 : jumla\n",
      "Processing Record: 420 : troitsko-pechorsk\n",
      "Processing Record: 421 : ordynskoye\n",
      "Processing Record: 422 : alcaniz\n",
      "Processing Record: 423 : pangnirtung\n",
      "Processing Record: 424 : port macquarie\n",
      "Processing Record: 425 : rio de jesus\n",
      "Processing Record: 426 : matay\n",
      "City not found. Skipping...\n",
      "Processing Record: 428 : warragul\n",
      "Processing Record: 429 : namibe\n",
      "Processing Record: 430 : nueve de julio\n",
      "Processing Record: 431 : sao filipe\n",
      "Processing Record: 432 : sisimiut\n",
      "Processing Record: 433 : noumea\n",
      "Processing Record: 434 : iracoubo\n",
      "City not found. Skipping...\n",
      "Processing Record: 436 : edmundston\n",
      "Processing Record: 437 : athabasca\n",
      "Processing Record: 438 : storforshei\n",
      "Processing Record: 439 : kulhudhuffushi\n",
      "Processing Record: 440 : ishigaki\n",
      "Processing Record: 441 : puerto madryn\n",
      "Processing Record: 442 : oistins\n",
      "Processing Record: 443 : port moresby\n",
      "Processing Record: 444 : troitskoye\n",
      "Processing Record: 445 : rio grande\n",
      "Processing Record: 446 : mandalgovi\n",
      "Processing Record: 447 : kaa-khem\n",
      "Processing Record: 448 : coihaique\n",
      "Processing Record: 449 : togur\n",
      "Processing Record: 450 : bima\n",
      "Processing Record: 451 : ranong\n",
      "Processing Record: 452 : mosquera\n",
      "Processing Record: 453 : nador\n",
      "Processing Record: 454 : tezu\n",
      "Processing Record: 455 : jalu\n",
      "Processing Record: 456 : ust-nera\n",
      "Processing Record: 457 : alofi\n",
      "Processing Record: 458 : gat\n",
      "Processing Record: 459 : dakar\n",
      "Processing Record: 460 : varkaus\n",
      "Processing Record: 461 : gigmoto\n",
      "Processing Record: 462 : morgan city\n",
      "Processing Record: 463 : laxou\n",
      "Processing Record: 464 : diamantino\n",
      "Processing Record: 465 : cabedelo\n",
      "Processing Record: 466 : vrangel\n",
      "Processing Record: 467 : praya\n",
      "Processing Record: 468 : itoman\n",
      "Processing Record: 469 : japura\n",
      "Processing Record: 470 : springfield\n",
      "Processing Record: 471 : hualmay\n",
      "Processing Record: 472 : hopatcong\n",
      "Processing Record: 473 : los llanos de aridane\n",
      "Processing Record: 474 : havoysund\n",
      "Processing Record: 475 : arlit\n",
      "Processing Record: 476 : puerto baquerizo moreno\n",
      "Processing Record: 477 : sumbe\n",
      "Processing Record: 478 : dicabisagan\n",
      "City not found. Skipping...\n",
      "Processing Record: 480 : zherdevka\n",
      "Processing Record: 481 : hovd\n",
      "Processing Record: 482 : aguimes\n",
      "Processing Record: 483 : sinnar\n",
      "Processing Record: 484 : can tho\n",
      "Processing Record: 485 : tautira\n",
      "Processing Record: 486 : orzhytsya\n",
      "Processing Record: 487 : constantine\n",
      "Processing Record: 488 : samarai\n"
     ]
    },
    {
     "name": "stdout",
     "output_type": "stream",
     "text": [
      "Processing Record: 489 : kaitangata\n",
      "Processing Record: 490 : tutoia\n",
      "Processing Record: 491 : warrensburg\n",
      "Processing Record: 492 : plettenberg bay\n",
      "Processing Record: 493 : ronne\n",
      "Processing Record: 494 : omboue\n",
      "Processing Record: 495 : moose factory\n",
      "Processing Record: 496 : nacogdoches\n",
      "Processing Record: 497 : garowe\n",
      "City not found. Skipping...\n",
      "Processing Record: 499 : chicacao\n",
      "Processing Record: 500 : inndyr\n",
      "Processing Record: 501 : ghanzi\n",
      "Processing Record: 502 : ust-tsilma\n",
      "Processing Record: 503 : westport\n",
      "Processing Record: 504 : byron bay\n",
      "Processing Record: 505 : honiara\n",
      "Processing Record: 506 : inhambane\n",
      "Processing Record: 507 : juba\n",
      "Processing Record: 508 : chapais\n",
      "Processing Record: 509 : shafranovo\n",
      "City not found. Skipping...\n",
      "Processing Record: 511 : gizo\n",
      "Processing Record: 512 : mwense\n",
      "Processing Record: 513 : marsh harbour\n",
      "Processing Record: 514 : vaitape\n",
      "Processing Record: 515 : saint-joseph\n",
      "Processing Record: 516 : hit\n",
      "Processing Record: 517 : shache\n",
      "Processing Record: 518 : orotukan\n",
      "Processing Record: 519 : luderitz\n",
      "Processing Record: 520 : nabire\n",
      "Processing Record: 521 : codrington\n",
      "Processing Record: 522 : phuket\n",
      "Processing Record: 523 : ypsonas\n",
      "City not found. Skipping...\n",
      "Processing Record: 525 : rawson\n",
      "Processing Record: 526 : zalantun\n",
      "Processing Record: 527 : ilulissat\n",
      "Processing Record: 528 : cayenne\n",
      "City not found. Skipping...\n",
      "Processing Record: 530 : saint anthony\n",
      "Processing Record: 531 : san borja\n",
      "Processing Record: 532 : itarema\n",
      "Processing Record: 533 : moundou\n",
      "Processing Record: 534 : malindi\n",
      "Processing Record: 535 : nortelandia\n",
      "Processing Record: 536 : tessalit\n",
      "Processing Record: 537 : zhangye\n",
      "Processing Record: 538 : dunedin\n",
      "Processing Record: 539 : formosa\n",
      "Processing Record: 540 : lewisporte\n",
      "Processing Record: 541 : nome\n",
      "Processing Record: 542 : havre-saint-pierre\n",
      "Processing Record: 543 : jiaozuo\n",
      "City not found. Skipping...\n",
      "Processing Record: 545 : saeby\n",
      "Processing Record: 546 : nago\n",
      "Processing Record: 547 : san miguel\n",
      "Processing Record: 548 : kimitsu\n",
      "Processing Record: 549 : sakakah\n",
      "Processing Record: 550 : san juan\n",
      "Processing Record: 551 : abashiri\n",
      "Processing Record: 552 : hays\n",
      "Processing Record: 553 : henties bay\n",
      "Processing Record: 554 : anadyr\n",
      "Processing Record: 555 : evensk\n",
      "Processing Record: 556 : mazatlan\n",
      "Processing Record: 557 : pano aqil\n",
      "Processing Record: 558 : mount gambier\n",
      "Processing Record: 559 : ayr\n",
      "Processing Record: 560 : lorengau\n",
      "Processing Record: 561 : dharchula\n",
      "Processing Record: 562 : marienburg\n",
      "Processing Record: 563 : tunceli\n",
      "Processing Record: 564 : hami\n",
      "Processing Record: 565 : onalaska\n",
      "Processing Record: 566 : miles city\n",
      "Processing Record: 567 : farmington\n",
      "Processing Record: 568 : keti bandar\n",
      "Processing Record: 569 : mangai\n",
      "Processing Record: 570 : qasigiannguit\n",
      "Processing Record: 571 : naze\n",
      "Processing Record: 572 : mogadishu\n",
      "Processing Record: 573 : tigil\n",
      "Processing Record: 574 : port-gentil\n",
      "City not found. Skipping...\n",
      "Processing Record: 576 : pirenopolis\n",
      "Processing Record: 577 : ormara\n",
      "Processing Record: 578 : manta\n",
      "Processing Record: 579 : dingle\n",
      "Processing Record: 580 : pendleton\n",
      "Processing Record: 581 : mogilno\n",
      "Processing Record: 582 : nauta\n",
      "Processing Record: 583 : asau\n",
      "Processing Record: 584 : punta alta\n",
      "Processing Record: 585 : olavarria\n",
      "Processing Record: 586 : port keats\n",
      "Processing Record: 587 : spearfish\n",
      "Processing Record: 588 : pyu\n",
      "Processing Record: 589 : doha\n",
      "City not found. Skipping...\n",
      "Processing Record: 591 : payo\n",
      "Processing Record: 592 : yuli\n",
      "City not found. Skipping...\n",
      "Processing Record: 594 : kungurtug\n",
      "Processing Record: 595 : tanete\n",
      "Processing Record: 596 : guanica\n",
      "Processing Record: 597 : koslan\n",
      "Processing Record: 598 : ambon\n",
      "Processing Record: 599 : xining\n",
      "Processing Record: 600 : hanna\n",
      "Processing Record: 601 : bang saphan\n",
      "Processing Record: 602 : mwingi\n",
      "Processing Record: 603 : sinnamary\n",
      "Processing Record: 604 : bagdarin\n",
      "Processing Record: 605 : dali\n",
      "Processing Record: 606 : teknaf\n",
      "Processing Record: 607 : cambrils\n",
      "Processing Record: 608 : finschhafen\n",
      "Processing Record: 609 : lompoc\n",
      "Processing Record: 610 : high rock\n",
      "Processing Record: 611 : mmabatho\n",
      "Processing Record: 612 : bonthe\n",
      "Processing Record: 613 : mwinilunga\n",
      "Processing Record: 614 : quelimane\n",
      "Processing Record: 615 : praia da vitoria\n",
      "Processing Record: 616 : lerwick\n",
      "Processing Record: 617 : qaqortoq\n",
      "Processing Record: 618 : vigrestad\n"
     ]
    }
   ],
   "source": [
    "# Loop trough the list of cities and perform a request on each\n",
    "\n",
    "print(f\"\"\"\n",
    "Beginning Data Retrieval\n",
    "----------------------------\"\"\")\n",
    "\n",
    "for i, city in enumerate(cities):\n",
    "    query_url = f\"{base_url}{city}&appid={weather_api_key}\"\n",
    "    response = requests.get(query_url).json()\n",
    "    #print(json.dumps(response, indent = 4))\n",
    "    try:\n",
    "        lat.append(response[\"coord\"][\"lat\"])\n",
    "        lng.append(response[\"coord\"][\"lon\"])\n",
    "        max_temp.append(response[\"main\"][\"temp_max\"])\n",
    "        humidity.append(response[\"main\"][\"humidity\"])\n",
    "        cloudiness.append(response[\"clouds\"][\"all\"])\n",
    "        wind_speed.append(response[\"wind\"][\"speed\"])\n",
    "        country_code.append(response[\"sys\"][\"country\"])\n",
    "        print(f\"Processing Record: {i} : {city}\")\n",
    "    except:\n",
    "        print(f\"City not found. Skipping...\")\n",
    "        \n",
    "        lat.append(None)\n",
    "        lng.append(None)\n",
    "        max_temp.append(None)\n",
    "        humidity.append(None)\n",
    "        cloudiness.append(None)\n",
    "        wind_speed.append(None)\n",
    "        country_code.append(None)\n",
    "        "
   ]
  },
  {
   "cell_type": "markdown",
   "metadata": {},
   "source": [
    "### Convert Raw Data to DataFrame\n",
    "* Export the city data into a .csv.\n",
    "* Display the DataFrame"
   ]
  },
  {
   "cell_type": "code",
   "execution_count": 6,
   "metadata": {},
   "outputs": [
    {
     "data": {
      "text/html": [
       "<div>\n",
       "<style scoped>\n",
       "    .dataframe tbody tr th:only-of-type {\n",
       "        vertical-align: middle;\n",
       "    }\n",
       "\n",
       "    .dataframe tbody tr th {\n",
       "        vertical-align: top;\n",
       "    }\n",
       "\n",
       "    .dataframe thead th {\n",
       "        text-align: right;\n",
       "    }\n",
       "</style>\n",
       "<table border=\"1\" class=\"dataframe\">\n",
       "  <thead>\n",
       "    <tr style=\"text-align: right;\">\n",
       "      <th></th>\n",
       "      <th>City</th>\n",
       "      <th>Lat</th>\n",
       "      <th>Lng</th>\n",
       "      <th>Max Temp</th>\n",
       "      <th>Humidity</th>\n",
       "      <th>Cloudiness</th>\n",
       "      <th>Wind Speed</th>\n",
       "      <th>Country Code</th>\n",
       "    </tr>\n",
       "  </thead>\n",
       "  <tbody>\n",
       "    <tr>\n",
       "      <th>0</th>\n",
       "      <td>castro</td>\n",
       "      <td>-24.7911</td>\n",
       "      <td>-50.0119</td>\n",
       "      <td>293.56</td>\n",
       "      <td>79.0</td>\n",
       "      <td>1.0</td>\n",
       "      <td>2.97</td>\n",
       "      <td>BR</td>\n",
       "    </tr>\n",
       "    <tr>\n",
       "      <th>1</th>\n",
       "      <td>lolua</td>\n",
       "      <td>NaN</td>\n",
       "      <td>NaN</td>\n",
       "      <td>NaN</td>\n",
       "      <td>NaN</td>\n",
       "      <td>NaN</td>\n",
       "      <td>NaN</td>\n",
       "      <td>None</td>\n",
       "    </tr>\n",
       "    <tr>\n",
       "      <th>2</th>\n",
       "      <td>fortuna</td>\n",
       "      <td>40.5982</td>\n",
       "      <td>-124.1573</td>\n",
       "      <td>284.82</td>\n",
       "      <td>93.0</td>\n",
       "      <td>90.0</td>\n",
       "      <td>5.66</td>\n",
       "      <td>US</td>\n",
       "    </tr>\n",
       "    <tr>\n",
       "      <th>3</th>\n",
       "      <td>mar del plata</td>\n",
       "      <td>-38.0023</td>\n",
       "      <td>-57.5575</td>\n",
       "      <td>293.71</td>\n",
       "      <td>100.0</td>\n",
       "      <td>75.0</td>\n",
       "      <td>1.54</td>\n",
       "      <td>AR</td>\n",
       "    </tr>\n",
       "    <tr>\n",
       "      <th>4</th>\n",
       "      <td>hermanus</td>\n",
       "      <td>-34.4187</td>\n",
       "      <td>19.2345</td>\n",
       "      <td>295.37</td>\n",
       "      <td>44.0</td>\n",
       "      <td>74.0</td>\n",
       "      <td>1.79</td>\n",
       "      <td>ZA</td>\n",
       "    </tr>\n",
       "  </tbody>\n",
       "</table>\n",
       "</div>"
      ],
      "text/plain": [
       "            City      Lat       Lng  Max Temp  Humidity  Cloudiness  \\\n",
       "0         castro -24.7911  -50.0119    293.56      79.0         1.0   \n",
       "1          lolua      NaN       NaN       NaN       NaN         NaN   \n",
       "2        fortuna  40.5982 -124.1573    284.82      93.0        90.0   \n",
       "3  mar del plata -38.0023  -57.5575    293.71     100.0        75.0   \n",
       "4       hermanus -34.4187   19.2345    295.37      44.0        74.0   \n",
       "\n",
       "   Wind Speed Country Code  \n",
       "0        2.97           BR  \n",
       "1         NaN         None  \n",
       "2        5.66           US  \n",
       "3        1.54           AR  \n",
       "4        1.79           ZA  "
      ]
     },
     "execution_count": 6,
     "metadata": {},
     "output_type": "execute_result"
    }
   ],
   "source": [
    "weather_df = pd.DataFrame({\n",
    "        \"City\": cities,\n",
    "        \"Lat\" : lat,\n",
    "        \"Lng\" : lng,\n",
    "        \"Max Temp\" : max_temp,\n",
    "        \"Humidity\" : humidity,\n",
    "        \"Cloudiness\" : cloudiness,\n",
    "        \"Wind Speed\" : wind_speed,\n",
    "        \"Country Code\" : country_code\n",
    "                          })\n",
    "\n",
    "weather_df.head()"
   ]
  },
  {
   "cell_type": "code",
   "execution_count": 24,
   "metadata": {},
   "outputs": [],
   "source": [
    "#Save DF to Resources\n",
    "\n",
    "write_path = os.path.join(\"Resources\", \"cities_weather_data.csv\")\n",
    "weather_df.to_csv(write_path, index=False)"
   ]
  },
  {
   "cell_type": "code",
   "execution_count": 25,
   "metadata": {},
   "outputs": [
    {
     "data": {
      "text/html": [
       "<div>\n",
       "<style scoped>\n",
       "    .dataframe tbody tr th:only-of-type {\n",
       "        vertical-align: middle;\n",
       "    }\n",
       "\n",
       "    .dataframe tbody tr th {\n",
       "        vertical-align: top;\n",
       "    }\n",
       "\n",
       "    .dataframe thead th {\n",
       "        text-align: right;\n",
       "    }\n",
       "</style>\n",
       "<table border=\"1\" class=\"dataframe\">\n",
       "  <thead>\n",
       "    <tr style=\"text-align: right;\">\n",
       "      <th></th>\n",
       "      <th>Unnamed: 0</th>\n",
       "      <th>City</th>\n",
       "      <th>Lat</th>\n",
       "      <th>Lng</th>\n",
       "      <th>Max Temp</th>\n",
       "      <th>Humidity</th>\n",
       "      <th>Cloudiness</th>\n",
       "      <th>Wind Speed</th>\n",
       "      <th>Country Code</th>\n",
       "    </tr>\n",
       "  </thead>\n",
       "  <tbody>\n",
       "    <tr>\n",
       "      <th>0</th>\n",
       "      <td>0</td>\n",
       "      <td>castro</td>\n",
       "      <td>-24.7911</td>\n",
       "      <td>-50.0119</td>\n",
       "      <td>293.56</td>\n",
       "      <td>79.0</td>\n",
       "      <td>1.0</td>\n",
       "      <td>2.97</td>\n",
       "      <td>BR</td>\n",
       "    </tr>\n",
       "    <tr>\n",
       "      <th>1</th>\n",
       "      <td>1</td>\n",
       "      <td>lolua</td>\n",
       "      <td>NaN</td>\n",
       "      <td>NaN</td>\n",
       "      <td>NaN</td>\n",
       "      <td>NaN</td>\n",
       "      <td>NaN</td>\n",
       "      <td>NaN</td>\n",
       "      <td>NaN</td>\n",
       "    </tr>\n",
       "    <tr>\n",
       "      <th>2</th>\n",
       "      <td>2</td>\n",
       "      <td>fortuna</td>\n",
       "      <td>40.5982</td>\n",
       "      <td>-124.1573</td>\n",
       "      <td>284.82</td>\n",
       "      <td>93.0</td>\n",
       "      <td>90.0</td>\n",
       "      <td>5.66</td>\n",
       "      <td>US</td>\n",
       "    </tr>\n",
       "    <tr>\n",
       "      <th>3</th>\n",
       "      <td>3</td>\n",
       "      <td>mar del plata</td>\n",
       "      <td>-38.0023</td>\n",
       "      <td>-57.5575</td>\n",
       "      <td>293.71</td>\n",
       "      <td>100.0</td>\n",
       "      <td>75.0</td>\n",
       "      <td>1.54</td>\n",
       "      <td>AR</td>\n",
       "    </tr>\n",
       "    <tr>\n",
       "      <th>4</th>\n",
       "      <td>4</td>\n",
       "      <td>hermanus</td>\n",
       "      <td>-34.4187</td>\n",
       "      <td>19.2345</td>\n",
       "      <td>295.37</td>\n",
       "      <td>44.0</td>\n",
       "      <td>74.0</td>\n",
       "      <td>1.79</td>\n",
       "      <td>ZA</td>\n",
       "    </tr>\n",
       "  </tbody>\n",
       "</table>\n",
       "</div>"
      ],
      "text/plain": [
       "   Unnamed: 0           City      Lat       Lng  Max Temp  Humidity  \\\n",
       "0           0         castro -24.7911  -50.0119    293.56      79.0   \n",
       "1           1          lolua      NaN       NaN       NaN       NaN   \n",
       "2           2        fortuna  40.5982 -124.1573    284.82      93.0   \n",
       "3           3  mar del plata -38.0023  -57.5575    293.71     100.0   \n",
       "4           4       hermanus -34.4187   19.2345    295.37      44.0   \n",
       "\n",
       "   Cloudiness  Wind Speed Country Code  \n",
       "0         1.0        2.97           BR  \n",
       "1         NaN         NaN          NaN  \n",
       "2        90.0        5.66           US  \n",
       "3        75.0        1.54           AR  \n",
       "4        74.0        1.79           ZA  "
      ]
     },
     "execution_count": 25,
     "metadata": {},
     "output_type": "execute_result"
    }
   ],
   "source": [
    "#In order to have the same results for analysis, read the file saved above\n",
    "\n",
    "csv_path = os.path.join(\"Resources\", \"cities_weather_data.csv\")\n",
    "weather_df = pd.read_csv(csv_path, index_col=False)\n",
    "weather_df.head()"
   ]
  },
  {
   "cell_type": "code",
   "execution_count": 45,
   "metadata": {},
   "outputs": [],
   "source": [
    "#Drop NAs from the data frame\n",
    "\n",
    "weather_df.dropna(inplace=True)\n",
    "\n",
    "#Drop Column Unnamed added even when index=False specified\n",
    "\n",
    "weather_df.drop([\"Unnamed: 0\"], axis =1, inplace = True)"
   ]
  },
  {
   "cell_type": "code",
   "execution_count": 46,
   "metadata": {},
   "outputs": [
    {
     "data": {
      "text/html": [
       "<div>\n",
       "<style scoped>\n",
       "    .dataframe tbody tr th:only-of-type {\n",
       "        vertical-align: middle;\n",
       "    }\n",
       "\n",
       "    .dataframe tbody tr th {\n",
       "        vertical-align: top;\n",
       "    }\n",
       "\n",
       "    .dataframe thead th {\n",
       "        text-align: right;\n",
       "    }\n",
       "</style>\n",
       "<table border=\"1\" class=\"dataframe\">\n",
       "  <thead>\n",
       "    <tr style=\"text-align: right;\">\n",
       "      <th></th>\n",
       "      <th>Lat</th>\n",
       "      <th>Lng</th>\n",
       "      <th>Max Temp</th>\n",
       "      <th>Humidity</th>\n",
       "      <th>Cloudiness</th>\n",
       "      <th>Wind Speed</th>\n",
       "    </tr>\n",
       "  </thead>\n",
       "  <tbody>\n",
       "    <tr>\n",
       "      <th>count</th>\n",
       "      <td>566.000000</td>\n",
       "      <td>566.000000</td>\n",
       "      <td>566.000000</td>\n",
       "      <td>566.000000</td>\n",
       "      <td>566.000000</td>\n",
       "      <td>566.00000</td>\n",
       "    </tr>\n",
       "    <tr>\n",
       "      <th>mean</th>\n",
       "      <td>20.018713</td>\n",
       "      <td>18.778077</td>\n",
       "      <td>283.372385</td>\n",
       "      <td>72.553004</td>\n",
       "      <td>55.353357</td>\n",
       "      <td>3.76788</td>\n",
       "    </tr>\n",
       "    <tr>\n",
       "      <th>std</th>\n",
       "      <td>33.378058</td>\n",
       "      <td>91.245626</td>\n",
       "      <td>19.007007</td>\n",
       "      <td>19.683420</td>\n",
       "      <td>37.778800</td>\n",
       "      <td>2.59841</td>\n",
       "    </tr>\n",
       "    <tr>\n",
       "      <th>min</th>\n",
       "      <td>-54.800000</td>\n",
       "      <td>-175.200000</td>\n",
       "      <td>235.480000</td>\n",
       "      <td>8.000000</td>\n",
       "      <td>0.000000</td>\n",
       "      <td>0.15000</td>\n",
       "    </tr>\n",
       "    <tr>\n",
       "      <th>25%</th>\n",
       "      <td>-7.822525</td>\n",
       "      <td>-60.742950</td>\n",
       "      <td>269.150000</td>\n",
       "      <td>63.000000</td>\n",
       "      <td>20.000000</td>\n",
       "      <td>1.89000</td>\n",
       "    </tr>\n",
       "    <tr>\n",
       "      <th>50%</th>\n",
       "      <td>25.247750</td>\n",
       "      <td>22.208700</td>\n",
       "      <td>290.150000</td>\n",
       "      <td>77.000000</td>\n",
       "      <td>74.000000</td>\n",
       "      <td>3.09000</td>\n",
       "    </tr>\n",
       "    <tr>\n",
       "      <th>75%</th>\n",
       "      <td>48.770800</td>\n",
       "      <td>102.140800</td>\n",
       "      <td>299.150000</td>\n",
       "      <td>86.000000</td>\n",
       "      <td>90.000000</td>\n",
       "      <td>5.14000</td>\n",
       "    </tr>\n",
       "    <tr>\n",
       "      <th>max</th>\n",
       "      <td>78.218600</td>\n",
       "      <td>179.316700</td>\n",
       "      <td>316.050000</td>\n",
       "      <td>100.000000</td>\n",
       "      <td>100.000000</td>\n",
       "      <td>14.92000</td>\n",
       "    </tr>\n",
       "  </tbody>\n",
       "</table>\n",
       "</div>"
      ],
      "text/plain": [
       "              Lat         Lng    Max Temp    Humidity  Cloudiness  Wind Speed\n",
       "count  566.000000  566.000000  566.000000  566.000000  566.000000   566.00000\n",
       "mean    20.018713   18.778077  283.372385   72.553004   55.353357     3.76788\n",
       "std     33.378058   91.245626   19.007007   19.683420   37.778800     2.59841\n",
       "min    -54.800000 -175.200000  235.480000    8.000000    0.000000     0.15000\n",
       "25%     -7.822525  -60.742950  269.150000   63.000000   20.000000     1.89000\n",
       "50%     25.247750   22.208700  290.150000   77.000000   74.000000     3.09000\n",
       "75%     48.770800  102.140800  299.150000   86.000000   90.000000     5.14000\n",
       "max     78.218600  179.316700  316.050000  100.000000  100.000000    14.92000"
      ]
     },
     "execution_count": 46,
     "metadata": {},
     "output_type": "execute_result"
    }
   ],
   "source": [
    "weather_df.describe()"
   ]
  },
  {
   "cell_type": "markdown",
   "metadata": {},
   "source": [
    "## Inspect the data and remove the cities where the humidity > 100%.\n",
    "----\n",
    "Skip this step if there are no cities that have humidity > 100%. "
   ]
  },
  {
   "cell_type": "code",
   "execution_count": 47,
   "metadata": {},
   "outputs": [
    {
     "data": {
      "text/html": [
       "<div>\n",
       "<style scoped>\n",
       "    .dataframe tbody tr th:only-of-type {\n",
       "        vertical-align: middle;\n",
       "    }\n",
       "\n",
       "    .dataframe tbody tr th {\n",
       "        vertical-align: top;\n",
       "    }\n",
       "\n",
       "    .dataframe thead th {\n",
       "        text-align: right;\n",
       "    }\n",
       "</style>\n",
       "<table border=\"1\" class=\"dataframe\">\n",
       "  <thead>\n",
       "    <tr style=\"text-align: right;\">\n",
       "      <th></th>\n",
       "      <th>City</th>\n",
       "      <th>Lat</th>\n",
       "      <th>Lng</th>\n",
       "      <th>Max Temp</th>\n",
       "      <th>Humidity</th>\n",
       "      <th>Cloudiness</th>\n",
       "      <th>Wind Speed</th>\n",
       "      <th>Country Code</th>\n",
       "    </tr>\n",
       "  </thead>\n",
       "  <tbody>\n",
       "  </tbody>\n",
       "</table>\n",
       "</div>"
      ],
      "text/plain": [
       "Empty DataFrame\n",
       "Columns: [City, Lat, Lng, Max Temp, Humidity, Cloudiness, Wind Speed, Country Code]\n",
       "Index: []"
      ]
     },
     "execution_count": 47,
     "metadata": {},
     "output_type": "execute_result"
    }
   ],
   "source": [
    "humidity_over_100 = weather_df.loc[weather_df[\"Humidity\"] > 100]\n",
    "humidity_over_100"
   ]
  },
  {
   "cell_type": "markdown",
   "metadata": {},
   "source": [
    "## Plotting the Data\n",
    "* Use proper labeling of the plots using plot titles (including date of analysis) and axes labels.\n",
    "* Save the plotted figures as .pngs."
   ]
  },
  {
   "cell_type": "markdown",
   "metadata": {},
   "source": [
    "## Latitude vs. Temperature Plot"
   ]
  },
  {
   "cell_type": "code",
   "execution_count": 75,
   "metadata": {
    "scrolled": true
   },
   "outputs": [
    {
     "data": {
      "image/png": "[encoded data removed]",
      "text/plain": [
       "<Figure size 432x288 with 1 Axes>"
      ]
     },
     "metadata": {
      "needs_background": "light"
     },
     "output_type": "display_data"
    }
   ],
   "source": [
    "#Scatter Plot for Lat vs Max Temp\n",
    "\n",
    "x_values = weather_df[\"Lat\"]\n",
    "y_values = weather_df[\"Max Temp\"]\n",
    "plt.scatter(x_values, y_values)\n",
    "plt.title(\"Cities' Latitude vs. Max Temperature\")\n",
    "plt.xlabel(\"Latitude\")\n",
    "plt.ylabel(\"Max Temperature (F)\")\n",
    "\n",
    "#Save the plot and show it\n",
    "plt.savefig(\"Images/Lat_vs_Temp.png\")\n",
    "plt.show()\n",
    "\n",
    "plt.close()"
   ]
  },
  {
   "cell_type": "markdown",
   "metadata": {},
   "source": [
    "- It seems that Latitude and Maximum Temperature of a City has a negative correlation from the Latitude 0 to the other higher latitudes, this means that from Latitude 0, the higher the Latitude of a city, it would be expected that the Maximum Tempereature will be lower. The behavior of the cities with negative latitudes is peculiar, their temperature is higher as their latitudes get close to the Latitude 0."
   ]
  },
  {
   "cell_type": "markdown",
   "metadata": {},
   "source": [
    "## Latitude vs. Humidity Plot"
   ]
  },
  {
   "cell_type": "code",
   "execution_count": 76,
   "metadata": {},
   "outputs": [
    {
     "data": {
      "image/png": "[encoded data removed]",
      "text/plain": [
       "<Figure size 432x288 with 1 Axes>"
      ]
     },
     "metadata": {
      "needs_background": "light"
     },
     "output_type": "display_data"
    }
   ],
   "source": [
    "#Scatter Plot for Lat vs Humidity\n",
    "\n",
    "x_values = weather_df[\"Lat\"]\n",
    "y_values = weather_df[\"Humidity\"]\n",
    "plt.scatter(x_values, y_values, color = \"r\")\n",
    "plt.title(\"Cities' Latitude vs. Humidity\")\n",
    "plt.xlabel(\"Latitude\")\n",
    "plt.ylabel(\"Humidity\")\n",
    "\n",
    "#Save the plot and show it\n",
    "plt.savefig(\"Images/Lat_vs_Hum.png\")\n",
    "plt.show()\n",
    "\n",
    "plt.close()"
   ]
  },
  {
   "cell_type": "markdown",
   "metadata": {},
   "source": [
    "- From the scatter plot above, it can be assumed that there is no relation between cities' latitude and humidity."
   ]
  },
  {
   "cell_type": "markdown",
   "metadata": {},
   "source": [
    "## Latitude vs. Cloudiness Plot"
   ]
  },
  {
   "cell_type": "code",
   "execution_count": 77,
   "metadata": {},
   "outputs": [
    {
     "data": {
      "image/png": "[encoded data removed]",
      "text/plain": [
       "<Figure size 432x288 with 1 Axes>"
      ]
     },
     "metadata": {
      "needs_background": "light"
     },
     "output_type": "display_data"
    }
   ],
   "source": [
    "#Scatter Plot for Lat vs Humidity\n",
    "\n",
    "x_values = weather_df[\"Lat\"]\n",
    "y_values = weather_df[\"Cloudiness\"]\n",
    "plt.scatter(x_values, y_values, color = \"b\")\n",
    "plt.title(\"Cities' Latitude vs. Cloudiness\")\n",
    "plt.xlabel(\"Latitude\")\n",
    "plt.ylabel(\"Cloudiness\")\n",
    "\n",
    "#Save the plot and show it\n",
    "plt.savefig(\"Images/Lat_vs_Cloud.png\")\n",
    "plt.show()\n",
    "\n",
    "plt.close()"
   ]
  },
  {
   "cell_type": "markdown",
   "metadata": {},
   "source": [
    "- Cities' Latitude vs Cloudiness scatterplot shows that it does not matter the latitude of a city, the cloudiness can be expected to behavior at any level."
   ]
  },
  {
   "cell_type": "markdown",
   "metadata": {},
   "source": [
    "## Latitude vs. Wind Speed Plot"
   ]
  },
  {
   "cell_type": "code",
   "execution_count": 78,
   "metadata": {},
   "outputs": [
    {
     "data": {
      "image/png": "[encoded data removed]",
      "text/plain": [
       "<Figure size 432x288 with 1 Axes>"
      ]
     },
     "metadata": {
      "needs_background": "light"
     },
     "output_type": "display_data"
    }
   ],
   "source": [
    "#Scatter Plot for Lat vs Humidity\n",
    "\n",
    "x_values = weather_df[\"Lat\"]\n",
    "y_values = weather_df[\"Wind Speed\"]\n",
    "plt.scatter(x_values, y_values, color = \"g\")\n",
    "plt.title(\"Cities' Latitude vs. Wind Speed\")\n",
    "plt.xlabel(\"Latitude\")\n",
    "plt.ylabel(\"Wind Speed\")\n",
    "\n",
    "#Save the plot and show it\n",
    "plt.savefig(\"Images/Lat_vs_Wind.png\")\n",
    "plt.show()\n",
    "\n",
    "plt.close()"
   ]
  },
  {
   "cell_type": "markdown",
   "metadata": {},
   "source": [
    "- Even when relationship between Latitude and Wind Speed does not seem to be highly strong, it is a slightly behavior in cities with a higher and lower latitude, where the wind speed is higher too, we can see this specially in cities with a latitude above and below 40 degrees."
   ]
  },
  {
   "cell_type": "markdown",
   "metadata": {},
   "source": [
    "## Linear Regression"
   ]
  },
  {
   "cell_type": "code",
   "execution_count": 86,
   "metadata": {},
   "outputs": [],
   "source": [
    "#Define Northern Hemisphere & Southern Hemisphere\n",
    "\n",
    "northern_hemisphere = weather_df.loc[weather_df[\"Lat\"] >=0]\n",
    "southern_hemisphere = weather_df.loc[weather_df[\"Lat\"] <0]"
   ]
  },
  {
   "cell_type": "markdown",
   "metadata": {},
   "source": [
    "####  Northern Hemisphere - Max Temp vs. Latitude Linear Regression"
   ]
  },
  {
   "cell_type": "code",
   "execution_count": 87,
   "metadata": {},
   "outputs": [
    {
     "name": "stdout",
     "output_type": "stream",
     "text": [
      "The line equation is: y = -0.83x + 309.49\n",
      "The R-squared is: 0.6970342768440199\n"
     ]
    },
    {
     "data": {
      "image/png": "[encoded data removed]",
      "text/plain": [
       "<Figure size 432x288 with 1 Axes>"
      ]
     },
     "metadata": {
      "needs_background": "light"
     },
     "output_type": "display_data"
    }
   ],
   "source": [
    "x_values = northern_hemisphere[\"Lat\"]\n",
    "y_values = nothern_hemisphere[\"Max Temp\"]\n",
    "(slope, intercept, rvalue, pvalue, stderr) = linregress(x_values, y_values)\n",
    "regress_values = x_values * slope + intercept\n",
    "line_eq = f\"y = {round(slope,2)}x + {round(intercept, 2)}\"\n",
    "plt.scatter(x_values, y_values)\n",
    "plt.plot(x_values, regress_values, \"r-\")\n",
    "plt.title(\"Northern Hemisphere - Max Temp vs. Latitude\")\n",
    "plt.xlabel(\"Latitude\")\n",
    "plt.ylabel(\"Max Temp\")\n",
    "\n",
    "#Print r squared value\n",
    "print(f\"The line equation is: {line_eq}\")\n",
    "print(f\"The R-squared is: {rvalue**2}\")\n",
    "\n",
    "#Save the plot and show it\n",
    "plt.savefig(\"Images/NH_Temp_vs_Latitude.png\")\n",
    "plt.show()\n",
    "\n",
    "plt.close()"
   ]
  },
  {
   "cell_type": "markdown",
   "metadata": {},
   "source": [
    "- The relationship for Max Temp and Latitude in Nothern Hemisphere's cities is negative. On the line equation it can be seen that the expected behavior is that for each degree that the latitude increased, the max temperature will decrease in 0.83 degrees. For the R squared it can be assumed that the regression line explained well the data behavior."
   ]
  },
  {
   "cell_type": "markdown",
   "metadata": {},
   "source": [
    "####  Southern Hemisphere - Max Temp vs. Latitude Linear Regression"
   ]
  },
  {
   "cell_type": "code",
   "execution_count": 82,
   "metadata": {},
   "outputs": [
    {
     "name": "stdout",
     "output_type": "stream",
     "text": [
      "The line equation is: y = 0.29x + 303.01\n",
      "The R-squared is: 0.4404066487912844\n"
     ]
    },
    {
     "data": {
      "image/png": "[encoded data removed]",
      "text/plain": [
       "<Figure size 432x288 with 1 Axes>"
      ]
     },
     "metadata": {
      "needs_background": "light"
     },
     "output_type": "display_data"
    }
   ],
   "source": [
    "x_values = southern_hemisphere[\"Lat\"]\n",
    "y_values = southern_hemisphere[\"Max Temp\"]\n",
    "(slope, intercept, rvalue, pvalue, stderr) = linregress(x_values, y_values)\n",
    "regress_values = x_values * slope + intercept\n",
    "line_eq = f\"y = {round(slope,2)}x + {round(intercept, 2)}\"\n",
    "plt.scatter(x_values, y_values)\n",
    "plt.plot(x_values, regress_values, \"r-\")\n",
    "plt.title(\"Southern Hemisphere - Max Temp vs. Latitude\")\n",
    "plt.xlabel(\"Latitude\")\n",
    "plt.ylabel(\"Max Temp\")\n",
    "\n",
    "#Print r squared value\n",
    "print(f\"The line equation is: {line_eq}\")\n",
    "print(f\"The R-squared is: {rvalue**2}\")\n",
    "\n",
    "#Save the plot and show it\n",
    "plt.savefig(\"Images/SH_Temp_vs_Latitude.png\")\n",
    "plt.show()\n",
    "\n",
    "plt.close()"
   ]
  },
  {
   "cell_type": "markdown",
   "metadata": {},
   "source": [
    "- The latitude and max temperature in Southern Hemisphere's cities have a positive relation. The interpretation for the line equation is that for one increase on the latitude degrees, it will be expected that the Max Temperature rise too by 0.29 degrees. The R squared does not fit as well as with nothern hemisphere's cities, but is close to 50%, so it could explained the model well."
   ]
  },
  {
   "cell_type": "markdown",
   "metadata": {},
   "source": [
    "####  Northern Hemisphere - Humidity (%) vs. Latitude Linear Regression"
   ]
  },
  {
   "cell_type": "code",
   "execution_count": 90,
   "metadata": {},
   "outputs": [
    {
     "name": "stdout",
     "output_type": "stream",
     "text": [
      "The line equation is: y = 0.45x + 53.52\n",
      "The R-squared is: 0.17736742058384933\n"
     ]
    },
    {
     "data": {
      "image/png": "[encoded data removed]",
      "text/plain": [
       "<Figure size 432x288 with 1 Axes>"
      ]
     },
     "metadata": {
      "needs_background": "light"
     },
     "output_type": "display_data"
    }
   ],
   "source": [
    "x_values = northern_hemisphere[\"Lat\"]\n",
    "y_values = northern_hemisphere[\"Humidity\"]\n",
    "(slope, intercept, rvalue, pvalue, stderr) = linregress(x_values, y_values)\n",
    "regress_values = x_values * slope + intercept\n",
    "line_eq = f\"y = {round(slope,2)}x + {round(intercept, 2)}\"\n",
    "plt.scatter(x_values, y_values)\n",
    "plt.plot(x_values, regress_values, \"r-\")\n",
    "plt.title(\"Northern Hemisphere - Humidity (%) vs. Latitude\")\n",
    "plt.xlabel(\"Latitude\")\n",
    "plt.ylabel(\"Humidity\")\n",
    "\n",
    "#Print r squared value\n",
    "print(f\"The line equation is: {line_eq}\")\n",
    "print(f\"The R-squared is: {rvalue**2}\")\n",
    "\n",
    "#Save the plot and show it\n",
    "plt.savefig(\"Images/NH_Hum_vs_Latitude.png\")\n",
    "plt.show()\n",
    "\n",
    "plt.close()"
   ]
  },
  {
   "cell_type": "markdown",
   "metadata": {},
   "source": [
    "- As it has be seen with the general relation between the percentage of Humidity and Latitude, it appears that for Nothern Hemisphere's cities also does not exist relation between these variables. This is expressed as well by the low R-squared."
   ]
  },
  {
   "cell_type": "markdown",
   "metadata": {},
   "source": [
    "####  Southern Hemisphere - Humidity (%) vs. Latitude Linear Regression"
   ]
  },
  {
   "cell_type": "code",
   "execution_count": 84,
   "metadata": {},
   "outputs": [
    {
     "name": "stdout",
     "output_type": "stream",
     "text": [
      "The line equation is: y = 0.18x + 78.61\n",
      "The R-squared is: 0.023260765458535303\n"
     ]
    },
    {
     "data": {
      "image/png": "[encoded data removed]",
      "text/plain": [
       "<Figure size 432x288 with 1 Axes>"
      ]
     },
     "metadata": {
      "needs_background": "light"
     },
     "output_type": "display_data"
    }
   ],
   "source": [
    "x_values = southern_hemisphere[\"Lat\"]\n",
    "y_values = southern_hemisphere[\"Humidity\"]\n",
    "(slope, intercept, rvalue, pvalue, stderr) = linregress(x_values, y_values)\n",
    "regress_values = x_values * slope + intercept\n",
    "line_eq = f\"y = {round(slope,2)}x + {round(intercept, 2)}\"\n",
    "plt.scatter(x_values, y_values)\n",
    "plt.plot(x_values, regress_values, \"r-\")\n",
    "plt.title(\"Southern Hemisphere - Humidity (%) vs. Latitude\")\n",
    "plt.xlabel(\"Latitude\")\n",
    "plt.ylabel(\"Humidity\")\n",
    "\n",
    "#Print r squared value\n",
    "print(f\"The line equation is: {line_eq}\")\n",
    "print(f\"The R-squared is: {rvalue**2}\")\n",
    "\n",
    "#Save the plot and show it\n",
    "plt.savefig(\"Images/SH_Hum_vs_Latitude.png\")\n",
    "plt.show()\n",
    "\n",
    "plt.close()"
   ]
  },
  {
   "cell_type": "markdown",
   "metadata": {},
   "source": [
    "- For Southern Hemisphere's cities it also appears that does not exist relation between the percentage of humidity and latitude, the R squared is even lower than for Nothern Hemisphere's cities, which talks about a poor prediction of the independent variable with dependent variable's data."
   ]
  },
  {
   "cell_type": "markdown",
   "metadata": {},
   "source": [
    "####  Northern Hemisphere - Cloudiness (%) vs. Latitude Linear Regression"
   ]
  },
  {
   "cell_type": "code",
   "execution_count": 91,
   "metadata": {},
   "outputs": [
    {
     "name": "stdout",
     "output_type": "stream",
     "text": [
      "The line equation is: y = 0.45x + 34.75\n",
      "The R-squared is: 0.053164969672680605\n"
     ]
    },
    {
     "data": {
      "image/png": "[encoded data removed]",
      "text/plain": [
       "<Figure size 432x288 with 1 Axes>"
      ]
     },
     "metadata": {
      "needs_background": "light"
     },
     "output_type": "display_data"
    }
   ],
   "source": [
    "x_values = northern_hemisphere[\"Lat\"]\n",
    "y_values = northern_hemisphere[\"Cloudiness\"]\n",
    "(slope, intercept, rvalue, pvalue, stderr) = linregress(x_values, y_values)\n",
    "regress_values = x_values * slope + intercept\n",
    "line_eq = f\"y = {round(slope,2)}x + {round(intercept, 2)}\"\n",
    "plt.scatter(x_values, y_values)\n",
    "plt.plot(x_values, regress_values, \"r-\")\n",
    "plt.title(\"Northern Hemisphere - Cloudiness (%) vs. Latitude\")\n",
    "plt.xlabel(\"Latitude\")\n",
    "plt.ylabel(\"Cloudiness\")\n",
    "\n",
    "#Print r squared value\n",
    "print(f\"The line equation is: {line_eq}\")\n",
    "print(f\"The R-squared is: {rvalue**2}\")\n",
    "\n",
    "#Save the plot and show it\n",
    "plt.savefig(\"Images/NH_Cloud_vs_Latitude.png\")\n",
    "plt.show()\n",
    "\n",
    "plt.close()"
   ]
  },
  {
   "cell_type": "markdown",
   "metadata": {},
   "source": [
    "####  Southern Hemisphere - Cloudiness (%) vs. Latitude Linear Regression"
   ]
  },
  {
   "cell_type": "code",
   "execution_count": 92,
   "metadata": {},
   "outputs": [
    {
     "name": "stdout",
     "output_type": "stream",
     "text": [
      "The line equation is: y = 0.62x + 73.82\n",
      "The R-squared is: 0.059401501658865166\n"
     ]
    },
    {
     "data": {
      "image/png": "[encoded data removed]",
      "text/plain": [
       "<Figure size 432x288 with 1 Axes>"
      ]
     },
     "metadata": {
      "needs_background": "light"
     },
     "output_type": "display_data"
    }
   ],
   "source": [
    "x_values = southern_hemisphere[\"Lat\"]\n",
    "y_values = southern_hemisphere[\"Cloudiness\"]\n",
    "(slope, intercept, rvalue, pvalue, stderr) = linregress(x_values, y_values)\n",
    "regress_values = x_values * slope + intercept\n",
    "line_eq = f\"y = {round(slope,2)}x + {round(intercept, 2)}\"\n",
    "plt.scatter(x_values, y_values)\n",
    "plt.plot(x_values, regress_values, \"r-\")\n",
    "plt.title(\"Northern Hemisphere - Cloudiness (%) vs. Latitude\")\n",
    "plt.xlabel(\"Latitude\")\n",
    "plt.ylabel(\"Cloudiness\")\n",
    "\n",
    "#Print r squared value\n",
    "print(f\"The line equation is: {line_eq}\")\n",
    "print(f\"The R-squared is: {rvalue**2}\")\n",
    "\n",
    "#Save the plot and show it\n",
    "plt.savefig(\"Images/SH_Cloud_vs_Latitude.png\")\n",
    "plt.show()\n",
    "\n",
    "plt.close()"
   ]
  },
  {
   "cell_type": "markdown",
   "metadata": {},
   "source": [
    "####  Northern Hemisphere - Wind Speed (mph) vs. Latitude Linear Regression"
   ]
  },
  {
   "cell_type": "code",
   "execution_count": null,
   "metadata": {},
   "outputs": [],
   "source": []
  },
  {
   "cell_type": "markdown",
   "metadata": {},
   "source": [
    "####  Southern Hemisphere - Wind Speed (mph) vs. Latitude Linear Regression"
   ]
  },
  {
   "cell_type": "code",
   "execution_count": null,
   "metadata": {},
   "outputs": [],
   "source": []
  },
  {
   "cell_type": "code",
   "execution_count": null,
   "metadata": {},
   "outputs": [],
   "source": []
  }
 ],
 "metadata": {
  "anaconda-cloud": {},
  "kernel_info": {
   "name": "python3"
  },
  "kernelspec": {
   "display_name": "Python [conda env:pythonData] *",
   "language": "python",
   "name": "conda-env-pythonData-py"
  },
  "language_info": {
   "codemirror_mode": {
    "name": "ipython",
    "version": 3
   },
   "file_extension": ".py",
   "mimetype": "text/x-python",
   "name": "python",
   "nbconvert_exporter": "python",
   "pygments_lexer": "ipython3",
   "version": "3.6.10"
  },
  "latex_envs": {
   "LaTeX_envs_menu_present": true,
   "autoclose": false,
   "autocomplete": true,
   "bibliofile": "biblio.bib",
   "cite_by": "apalike",
   "current_citInitial": 1,
   "eqLabelWithNumbers": true,
   "eqNumInitial": 1,
   "hotkeys": {
    "equation": "Ctrl-E",
    "itemize": "Ctrl-I"
   },
   "labels_anchors": false,
   "latex_user_defs": false,
   "report_style_numbering": false,
   "user_envs_cfg": false
  },
  "nteract": {
   "version": "0.12.3"
  }
 },
 "nbformat": 4,
 "nbformat_minor": 2
}
